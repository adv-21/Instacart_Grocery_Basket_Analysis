{
 "cells": [
  {
   "cell_type": "markdown",
   "id": "fa01caf8-66c6-4f40-9177-112d6813f1d0",
   "metadata": {},
   "source": [
    "#01. Importing Libraries"
   ]
  },
  {
   "cell_type": "code",
   "execution_count": 9,
   "id": "1953a630-85bd-4203-a8ec-4b31c83a9466",
   "metadata": {},
   "outputs": [],
   "source": [
    "# import libraries\n",
    "import pandas as pd\n",
    "import numpy as np\n",
    "import os"
   ]
  },
  {
   "cell_type": "markdown",
   "id": "611a666d-9c64-4964-af30-a16b6756ab1b",
   "metadata": {},
   "source": [
    "#02. Python Data Types"
   ]
  },
  {
   "cell_type": "code",
   "execution_count": 42,
   "id": "a6fa5445-468d-4c90-bbf1-86a324b4e3fe",
   "metadata": {},
   "outputs": [],
   "source": [
    "x = 50\n",
    "y= 25"
   ]
  },
  {
   "cell_type": "code",
   "execution_count": 44,
   "id": "97d58194-5a76-4038-b0be-56881ae86f8b",
   "metadata": {},
   "outputs": [
    {
     "data": {
      "text/plain": [
       "100"
      ]
     },
     "execution_count": 44,
     "metadata": {},
     "output_type": "execute_result"
    }
   ],
   "source": [
    "x + x"
   ]
  },
  {
   "cell_type": "code",
   "execution_count": 48,
   "id": "e5a8aca7-ae0f-4ca5-97b1-5213634df2f1",
   "metadata": {},
   "outputs": [
    {
     "data": {
      "text/plain": [
       "100"
      ]
     },
     "execution_count": 48,
     "metadata": {},
     "output_type": "execute_result"
    }
   ],
   "source": [
    "x + 2 * y"
   ]
  },
  {
   "cell_type": "code",
   "execution_count": 50,
   "id": "2ba58127-a064-436f-a263-1a58fed0ee22",
   "metadata": {},
   "outputs": [
    {
     "data": {
      "text/plain": [
       "100"
      ]
     },
     "execution_count": 50,
     "metadata": {},
     "output_type": "execute_result"
    }
   ],
   "source": [
    "6 * y - x"
   ]
  },
  {
   "cell_type": "code",
   "execution_count": 52,
   "id": "44c44d0a-a1e2-4ace-8c40-c7dd7389148e",
   "metadata": {},
   "outputs": [],
   "source": [
    "j = 4.89\n",
    "k = 3.45"
   ]
  },
  {
   "cell_type": "code",
   "execution_count": 54,
   "id": "f82140bc-52a2-4675-a9c5-5f794406c6b8",
   "metadata": {},
   "outputs": [
    {
     "data": {
      "text/plain": [
       "1.417391304347826"
      ]
     },
     "execution_count": 54,
     "metadata": {},
     "output_type": "execute_result"
    }
   ],
   "source": [
    "j / k"
   ]
  },
  {
   "cell_type": "code",
   "execution_count": 56,
   "id": "8fa4cb34-b0d0-40d5-9aed-21c90f5ee8d7",
   "metadata": {},
   "outputs": [],
   "source": [
    "n = 'cornu'\n",
    "m = 'copia'"
   ]
  },
  {
   "cell_type": "code",
   "execution_count": 58,
   "id": "0bbb8178-7b93-4587-8a4a-46cb1fd6cf92",
   "metadata": {},
   "outputs": [
    {
     "data": {
      "text/plain": [
       "'cornucopia'"
      ]
     },
     "execution_count": 58,
     "metadata": {},
     "output_type": "execute_result"
    }
   ],
   "source": [
    "n + m"
   ]
  },
  {
   "cell_type": "code",
   "execution_count": 60,
   "id": "36e9869a-d560-40a5-b14a-45202356b95f",
   "metadata": {},
   "outputs": [],
   "source": [
    "g = 'i am almost '\n",
    "h = 'done with this assignment'"
   ]
  },
  {
   "cell_type": "code",
   "execution_count": 62,
   "id": "3fbe119f-b559-4ed8-a22d-504ed35920e2",
   "metadata": {},
   "outputs": [
    {
     "data": {
      "text/plain": [
       "'i am almost done with this assignment'"
      ]
     },
     "execution_count": 62,
     "metadata": {},
     "output_type": "execute_result"
    }
   ],
   "source": [
    "g + h"
   ]
  },
  {
   "cell_type": "code",
   "execution_count": 64,
   "id": "33c29bd0-f436-42ad-9bc6-0a83c742482f",
   "metadata": {},
   "outputs": [],
   "source": [
    "d = 'i am learning '\n",
    "e = 'so much'"
   ]
  },
  {
   "cell_type": "code",
   "execution_count": 66,
   "id": "5c136897-97bc-4f83-bea3-d52594de6a3a",
   "metadata": {},
   "outputs": [
    {
     "data": {
      "text/plain": [
       "'i am learning so much'"
      ]
     },
     "execution_count": 66,
     "metadata": {},
     "output_type": "execute_result"
    }
   ],
   "source": [
    "d + e"
   ]
  },
  {
   "cell_type": "code",
   "execution_count": 68,
   "id": "e5d5ff3b-345f-46be-92a0-5e2cd0eb92d1",
   "metadata": {},
   "outputs": [
    {
     "data": {
      "text/plain": [
       "'i am learning so muchi am learning so muchi am learning so muchi am learning so muchi am learning so muchi am learning so muchi am learning so muchi am learning so muchi am learning so muchi am learning so muchi am learning so muchi am learning so muchi am learning so muchi am learning so muchi am learning so muchi am learning so muchi am learning so muchi am learning so muchi am learning so muchi am learning so muchi am learning so muchi am learning so muchi am learning so muchi am learning so muchi am learning so muchi am learning so muchi am learning so muchi am learning so muchi am learning so muchi am learning so muchi am learning so muchi am learning so muchi am learning so muchi am learning so muchi am learning so muchi am learning so muchi am learning so muchi am learning so muchi am learning so muchi am learning so muchi am learning so muchi am learning so muchi am learning so muchi am learning so muchi am learning so muchi am learning so muchi am learning so muchi am learning so muchi am learning so muchi am learning so muchi am learning so muchi am learning so muchi am learning so muchi am learning so muchi am learning so muchi am learning so muchi am learning so muchi am learning so muchi am learning so muchi am learning so muchi am learning so muchi am learning so muchi am learning so muchi am learning so muchi am learning so muchi am learning so muchi am learning so muchi am learning so muchi am learning so muchi am learning so muchi am learning so muchi am learning so muchi am learning so muchi am learning so muchi am learning so muchi am learning so muchi am learning so muchi am learning so muchi am learning so muchi am learning so muchi am learning so muchi am learning so muchi am learning so muchi am learning so muchi am learning so muchi am learning so muchi am learning so muchi am learning so muchi am learning so muchi am learning so muchi am learning so muchi am learning so muchi am learning so muchi am learning so muchi am learning so muchi am learning so muchi am learning so muchi am learning so muchi am learning so muchi am learning so much'"
      ]
     },
     "execution_count": 68,
     "metadata": {},
     "output_type": "execute_result"
    }
   ],
   "source": [
    "(d + e) * 100"
   ]
  },
  {
   "cell_type": "code",
   "execution_count": null,
   "id": "2bce55a6-2a2d-4766-b8fd-9578662b256e",
   "metadata": {},
   "outputs": [],
   "source": []
  }
 ],
 "metadata": {
  "kernelspec": {
   "display_name": "Python [conda env:base] *",
   "language": "python",
   "name": "conda-base-py"
  },
  "language_info": {
   "codemirror_mode": {
    "name": "ipython",
    "version": 3
   },
   "file_extension": ".py",
   "mimetype": "text/x-python",
   "name": "python",
   "nbconvert_exporter": "python",
   "pygments_lexer": "ipython3",
   "version": "3.12.7"
  }
 },
 "nbformat": 4,
 "nbformat_minor": 5
}
