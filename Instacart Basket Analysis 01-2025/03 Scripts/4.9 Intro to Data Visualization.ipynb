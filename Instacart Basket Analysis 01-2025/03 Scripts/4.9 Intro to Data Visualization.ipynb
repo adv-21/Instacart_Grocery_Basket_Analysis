{
 "cells": [
  {
   "cell_type": "code",
   "execution_count": 2,
   "id": "f447fbe6-10b0-452f-b131-4bb200989f93",
   "metadata": {},
   "outputs": [],
   "source": [
    "import pandas as pd\n",
    "import numpy as np\n",
    "import os\n",
    "import matplotlib.pyplot as plt\n",
    "import seaborn as sns\n",
    "import scipy"
   ]
  },
  {
   "cell_type": "code",
   "execution_count": 4,
   "id": "e8d2f810-e6d4-4479-8c64-989c2abcf3ae",
   "metadata": {},
   "outputs": [],
   "source": [
    "#creating path for easier import of data\n",
    "path = r'C:\\Users\\Stugots\\Desktop\\Bootcamp Stuff\\Intro to Python\\Instacart Basket Analysis 01-2025'"
   ]
  },
  {
   "cell_type": "code",
   "execution_count": 6,
   "id": "e3cd2bda-0c2e-4325-8998-5b7c4f659080",
   "metadata": {},
   "outputs": [],
   "source": [
    "#importing data as dataframe\n",
    "ords_prods_merge = pd.read_pickle(os.path.join(path, '02 Data' , 'Prepared Data', 'orders_products_merge_aggcolumns.pkl')) "
   ]
  },
  {
   "cell_type": "code",
   "execution_count": 12,
   "id": "f1f04b4b-cdc1-44aa-923b-b3514b996132",
   "metadata": {},
   "outputs": [
    {
     "data": {
      "text/html": [
       "<div>\n",
       "<style scoped>\n",
       "    .dataframe tbody tr th:only-of-type {\n",
       "        vertical-align: middle;\n",
       "    }\n",
       "\n",
       "    .dataframe tbody tr th {\n",
       "        vertical-align: top;\n",
       "    }\n",
       "\n",
       "    .dataframe thead th {\n",
       "        text-align: right;\n",
       "    }\n",
       "</style>\n",
       "<table border=\"1\" class=\"dataframe\">\n",
       "  <thead>\n",
       "    <tr style=\"text-align: right;\">\n",
       "      <th></th>\n",
       "      <th>order_id</th>\n",
       "      <th>user_id</th>\n",
       "      <th>order_number</th>\n",
       "      <th>orders_day_of_the_week</th>\n",
       "      <th>order_hour_of_day</th>\n",
       "      <th>days_since_prior_order</th>\n",
       "      <th>product_id</th>\n",
       "      <th>add_to_cart_order</th>\n",
       "      <th>reordered</th>\n",
       "      <th>product_name</th>\n",
       "      <th>...</th>\n",
       "      <th>merge</th>\n",
       "      <th>busiest_day</th>\n",
       "      <th>busiest_days</th>\n",
       "      <th>busiest_period_of_day</th>\n",
       "      <th>max_order</th>\n",
       "      <th>loyalty_flag</th>\n",
       "      <th>average_price</th>\n",
       "      <th>spender_type</th>\n",
       "      <th>median_days_since_order</th>\n",
       "      <th>customer_frequency</th>\n",
       "    </tr>\n",
       "  </thead>\n",
       "  <tbody>\n",
       "    <tr>\n",
       "      <th>0</th>\n",
       "      <td>2539329</td>\n",
       "      <td>1</td>\n",
       "      <td>1</td>\n",
       "      <td>2</td>\n",
       "      <td>8</td>\n",
       "      <td>NaN</td>\n",
       "      <td>196</td>\n",
       "      <td>1</td>\n",
       "      <td>0</td>\n",
       "      <td>Soda</td>\n",
       "      <td>...</td>\n",
       "      <td>both</td>\n",
       "      <td>Regularly busy</td>\n",
       "      <td>Regularly busy</td>\n",
       "      <td>Average Orders</td>\n",
       "      <td>10</td>\n",
       "      <td>New customer</td>\n",
       "      <td>6.367797</td>\n",
       "      <td>Low Spender</td>\n",
       "      <td>20.5</td>\n",
       "      <td>Non-frequent customer</td>\n",
       "    </tr>\n",
       "    <tr>\n",
       "      <th>1</th>\n",
       "      <td>2539329</td>\n",
       "      <td>1</td>\n",
       "      <td>1</td>\n",
       "      <td>2</td>\n",
       "      <td>8</td>\n",
       "      <td>NaN</td>\n",
       "      <td>14084</td>\n",
       "      <td>2</td>\n",
       "      <td>0</td>\n",
       "      <td>Organic Unsweetened Vanilla Almond Milk</td>\n",
       "      <td>...</td>\n",
       "      <td>both</td>\n",
       "      <td>Regularly busy</td>\n",
       "      <td>Regularly busy</td>\n",
       "      <td>Average Orders</td>\n",
       "      <td>10</td>\n",
       "      <td>New customer</td>\n",
       "      <td>6.367797</td>\n",
       "      <td>Low Spender</td>\n",
       "      <td>20.5</td>\n",
       "      <td>Non-frequent customer</td>\n",
       "    </tr>\n",
       "    <tr>\n",
       "      <th>2</th>\n",
       "      <td>2539329</td>\n",
       "      <td>1</td>\n",
       "      <td>1</td>\n",
       "      <td>2</td>\n",
       "      <td>8</td>\n",
       "      <td>NaN</td>\n",
       "      <td>12427</td>\n",
       "      <td>3</td>\n",
       "      <td>0</td>\n",
       "      <td>Original Beef Jerky</td>\n",
       "      <td>...</td>\n",
       "      <td>both</td>\n",
       "      <td>Regularly busy</td>\n",
       "      <td>Regularly busy</td>\n",
       "      <td>Average Orders</td>\n",
       "      <td>10</td>\n",
       "      <td>New customer</td>\n",
       "      <td>6.367797</td>\n",
       "      <td>Low Spender</td>\n",
       "      <td>20.5</td>\n",
       "      <td>Non-frequent customer</td>\n",
       "    </tr>\n",
       "    <tr>\n",
       "      <th>3</th>\n",
       "      <td>2539329</td>\n",
       "      <td>1</td>\n",
       "      <td>1</td>\n",
       "      <td>2</td>\n",
       "      <td>8</td>\n",
       "      <td>NaN</td>\n",
       "      <td>26088</td>\n",
       "      <td>4</td>\n",
       "      <td>0</td>\n",
       "      <td>Aged White Cheddar Popcorn</td>\n",
       "      <td>...</td>\n",
       "      <td>both</td>\n",
       "      <td>Regularly busy</td>\n",
       "      <td>Regularly busy</td>\n",
       "      <td>Average Orders</td>\n",
       "      <td>10</td>\n",
       "      <td>New customer</td>\n",
       "      <td>6.367797</td>\n",
       "      <td>Low Spender</td>\n",
       "      <td>20.5</td>\n",
       "      <td>Non-frequent customer</td>\n",
       "    </tr>\n",
       "    <tr>\n",
       "      <th>4</th>\n",
       "      <td>2539329</td>\n",
       "      <td>1</td>\n",
       "      <td>1</td>\n",
       "      <td>2</td>\n",
       "      <td>8</td>\n",
       "      <td>NaN</td>\n",
       "      <td>26405</td>\n",
       "      <td>5</td>\n",
       "      <td>0</td>\n",
       "      <td>XL Pick-A-Size Paper Towel Rolls</td>\n",
       "      <td>...</td>\n",
       "      <td>both</td>\n",
       "      <td>Regularly busy</td>\n",
       "      <td>Regularly busy</td>\n",
       "      <td>Average Orders</td>\n",
       "      <td>10</td>\n",
       "      <td>New customer</td>\n",
       "      <td>6.367797</td>\n",
       "      <td>Low Spender</td>\n",
       "      <td>20.5</td>\n",
       "      <td>Non-frequent customer</td>\n",
       "    </tr>\n",
       "  </tbody>\n",
       "</table>\n",
       "<p>5 rows × 23 columns</p>\n",
       "</div>"
      ],
      "text/plain": [
       "   order_id  user_id  order_number  orders_day_of_the_week  order_hour_of_day  \\\n",
       "0   2539329        1             1                       2                  8   \n",
       "1   2539329        1             1                       2                  8   \n",
       "2   2539329        1             1                       2                  8   \n",
       "3   2539329        1             1                       2                  8   \n",
       "4   2539329        1             1                       2                  8   \n",
       "\n",
       "   days_since_prior_order  product_id  add_to_cart_order  reordered  \\\n",
       "0                     NaN         196                  1          0   \n",
       "1                     NaN       14084                  2          0   \n",
       "2                     NaN       12427                  3          0   \n",
       "3                     NaN       26088                  4          0   \n",
       "4                     NaN       26405                  5          0   \n",
       "\n",
       "                              product_name  ...  merge     busiest_day  \\\n",
       "0                                     Soda  ...   both  Regularly busy   \n",
       "1  Organic Unsweetened Vanilla Almond Milk  ...   both  Regularly busy   \n",
       "2                      Original Beef Jerky  ...   both  Regularly busy   \n",
       "3               Aged White Cheddar Popcorn  ...   both  Regularly busy   \n",
       "4         XL Pick-A-Size Paper Towel Rolls  ...   both  Regularly busy   \n",
       "\n",
       "     busiest_days busiest_period_of_day max_order  loyalty_flag average_price  \\\n",
       "0  Regularly busy        Average Orders        10  New customer      6.367797   \n",
       "1  Regularly busy        Average Orders        10  New customer      6.367797   \n",
       "2  Regularly busy        Average Orders        10  New customer      6.367797   \n",
       "3  Regularly busy        Average Orders        10  New customer      6.367797   \n",
       "4  Regularly busy        Average Orders        10  New customer      6.367797   \n",
       "\n",
       "   spender_type median_days_since_order     customer_frequency  \n",
       "0   Low Spender                    20.5  Non-frequent customer  \n",
       "1   Low Spender                    20.5  Non-frequent customer  \n",
       "2   Low Spender                    20.5  Non-frequent customer  \n",
       "3   Low Spender                    20.5  Non-frequent customer  \n",
       "4   Low Spender                    20.5  Non-frequent customer  \n",
       "\n",
       "[5 rows x 23 columns]"
      ]
     },
     "execution_count": 12,
     "metadata": {},
     "output_type": "execute_result"
    }
   ],
   "source": [
    "ords_prods_merge.head()"
   ]
  },
  {
   "cell_type": "code",
   "execution_count": 28,
   "id": "92bdf741-8bf2-4bc6-8ed4-5c9c0d830644",
   "metadata": {},
   "outputs": [
    {
     "data": {
      "text/plain": [
       "<Axes: xlabel='orders_day_of_the_week'>"
      ]
     },
     "execution_count": 28,
     "metadata": {},
     "output_type": "execute_result"
    },
    {
     "data": {
      "image/png": "[encoded data removed]",
      "text/plain": [
       "<Figure size 640x480 with 1 Axes>"
      ]
     },
     "metadata": {},
     "output_type": "display_data"
    }
   ],
   "source": [
    "#creating bar chart, using sort index to sort the days of week and color argument to change colors of bars (input colors in bar order)\n",
    "ords_prods_merge['orders_day_of_the_week'].value_counts().sort_index().plot.bar(color = ['purple','red','pink','orange','yellow','green','blue'])"
   ]
  },
  {
   "cell_type": "code",
   "execution_count": 34,
   "id": "0384e8e8-5642-4f80-8be0-4cbe9d0a51b1",
   "metadata": {},
   "outputs": [
    {
     "data": {
      "image/png": "[encoded data removed]",
      "text/plain": [
       "<Figure size 640x480 with 1 Axes>"
      ]
     },
     "metadata": {},
     "output_type": "display_data"
    }
   ],
   "source": [
    "#above only created a preview this will create the actual chart\n",
    "bar = ords_prods_merge['orders_day_of_the_week'].value_counts().sort_index().plot.bar(color =['purple', 'red', 'pink', 'orange', 'yellow', 'green', 'blue'])"
   ]
  },
  {
   "cell_type": "code",
   "execution_count": 36,
   "id": "d0215059-55b9-494a-be15-b3ad8cf1ef77",
   "metadata": {},
   "outputs": [],
   "source": [
    "bar.figure.savefig(os.path.join(path, '04 Analysis','Visualizations', 'bar_orders_dow.png'))"
   ]
  },
  {
   "cell_type": "code",
   "execution_count": 38,
   "id": "da3d373b-645b-4611-bba7-75016238ba3c",
   "metadata": {},
   "outputs": [
    {
     "data": {
      "text/plain": [
       "<Axes: ylabel='Frequency'>"
      ]
     },
     "execution_count": 38,
     "metadata": {},
     "output_type": "execute_result"
    },
    {
     "data": {
      "image/png": "[encoded data removed]",
      "text/plain": [
       "<Figure size 640x480 with 1 Axes>"
      ]
     },
     "metadata": {},
     "output_type": "display_data"
    }
   ],
   "source": [
    "#creating a histogram preview from the prices column, need the argument for number of bins when making a histogram\n",
    "ords_prods_merge['prices'].plot.hist(bins = 25)"
   ]
  },
  {
   "cell_type": "code",
   "execution_count": 41,
   "id": "275dcf08-0f8a-4442-8c72-cff6033fe021",
   "metadata": {},
   "outputs": [
    {
     "data": {
      "text/plain": [
       "<Axes: xlabel='prices', ylabel='prices'>"
      ]
     },
     "execution_count": 41,
     "metadata": {},
     "output_type": "execute_result"
    },
    {
     "data": {
      "image/png": "[encoded data removed]",
      "text/plain": [
       "<Figure size 640x480 with 1 Axes>"
      ]
     },
     "metadata": {},
     "output_type": "display_data"
    }
   ],
   "source": [
    "#scatterplot \n",
    "sns.scatterplot(x = 'prices', y = 'prices',data = ords_prods_merge)"
   ]
  },
  {
   "cell_type": "code",
   "execution_count": 47,
   "id": "a48109b6-9d7d-48a9-bd82-49bc9ee48433",
   "metadata": {},
   "outputs": [
    {
     "data": {
      "text/html": [
       "<div>\n",
       "<style scoped>\n",
       "    .dataframe tbody tr th:only-of-type {\n",
       "        vertical-align: middle;\n",
       "    }\n",
       "\n",
       "    .dataframe tbody tr th {\n",
       "        vertical-align: top;\n",
       "    }\n",
       "\n",
       "    .dataframe thead th {\n",
       "        text-align: right;\n",
       "    }\n",
       "</style>\n",
       "<table border=\"1\" class=\"dataframe\">\n",
       "  <thead>\n",
       "    <tr style=\"text-align: right;\">\n",
       "      <th></th>\n",
       "      <th>order_id</th>\n",
       "      <th>user_id</th>\n",
       "      <th>order_number</th>\n",
       "      <th>orders_day_of_the_week</th>\n",
       "      <th>order_hour_of_day</th>\n",
       "      <th>days_since_prior_order</th>\n",
       "      <th>product_id</th>\n",
       "      <th>add_to_cart_order</th>\n",
       "      <th>reordered</th>\n",
       "      <th>product_name</th>\n",
       "      <th>aisle_id</th>\n",
       "      <th>department_id</th>\n",
       "      <th>prices</th>\n",
       "      <th>merge</th>\n",
       "      <th>busiest_day</th>\n",
       "      <th>busiest_days</th>\n",
       "      <th>busiest_period_of_day</th>\n",
       "      <th>max_order</th>\n",
       "      <th>loyalty_flag</th>\n",
       "      <th>average_price</th>\n",
       "      <th>spender_type</th>\n",
       "      <th>median_days_since_order</th>\n",
       "      <th>customer_frequency</th>\n",
       "    </tr>\n",
       "  </thead>\n",
       "  <tbody>\n",
       "    <tr>\n",
       "      <th>1576</th>\n",
       "      <td>912404</td>\n",
       "      <td>17</td>\n",
       "      <td>12</td>\n",
       "      <td>2</td>\n",
       "      <td>14</td>\n",
       "      <td>5.0</td>\n",
       "      <td>21553</td>\n",
       "      <td>5</td>\n",
       "      <td>0</td>\n",
       "      <td>Lowfat 2% Milkfat Cottage Cheese</td>\n",
       "      <td>108</td>\n",
       "      <td>16</td>\n",
       "      <td>14900.0</td>\n",
       "      <td>both</td>\n",
       "      <td>Regularly busy</td>\n",
       "      <td>Regularly busy</td>\n",
       "      <td>Most Orders</td>\n",
       "      <td>40</td>\n",
       "      <td>Regular customer</td>\n",
       "      <td>108.648299</td>\n",
       "      <td>High Spender</td>\n",
       "      <td>5.0</td>\n",
       "      <td>Frequent customer</td>\n",
       "    </tr>\n",
       "    <tr>\n",
       "      <th>1638</th>\n",
       "      <td>603376</td>\n",
       "      <td>17</td>\n",
       "      <td>22</td>\n",
       "      <td>6</td>\n",
       "      <td>16</td>\n",
       "      <td>4.0</td>\n",
       "      <td>21553</td>\n",
       "      <td>3</td>\n",
       "      <td>1</td>\n",
       "      <td>Lowfat 2% Milkfat Cottage Cheese</td>\n",
       "      <td>108</td>\n",
       "      <td>16</td>\n",
       "      <td>14900.0</td>\n",
       "      <td>both</td>\n",
       "      <td>Regularly busy</td>\n",
       "      <td>Regularly busy</td>\n",
       "      <td>Most Orders</td>\n",
       "      <td>40</td>\n",
       "      <td>Regular customer</td>\n",
       "      <td>108.648299</td>\n",
       "      <td>High Spender</td>\n",
       "      <td>5.0</td>\n",
       "      <td>Frequent customer</td>\n",
       "    </tr>\n",
       "    <tr>\n",
       "      <th>16522</th>\n",
       "      <td>3264360</td>\n",
       "      <td>135</td>\n",
       "      <td>2</td>\n",
       "      <td>2</td>\n",
       "      <td>21</td>\n",
       "      <td>13.0</td>\n",
       "      <td>21553</td>\n",
       "      <td>6</td>\n",
       "      <td>0</td>\n",
       "      <td>Lowfat 2% Milkfat Cottage Cheese</td>\n",
       "      <td>108</td>\n",
       "      <td>16</td>\n",
       "      <td>14900.0</td>\n",
       "      <td>both</td>\n",
       "      <td>Regularly busy</td>\n",
       "      <td>Regularly busy</td>\n",
       "      <td>Average Orders</td>\n",
       "      <td>4</td>\n",
       "      <td>New customer</td>\n",
       "      <td>1154.792308</td>\n",
       "      <td>High Spender</td>\n",
       "      <td>12.0</td>\n",
       "      <td>Regular customer</td>\n",
       "    </tr>\n",
       "    <tr>\n",
       "      <th>16528</th>\n",
       "      <td>892534</td>\n",
       "      <td>135</td>\n",
       "      <td>3</td>\n",
       "      <td>0</td>\n",
       "      <td>8</td>\n",
       "      <td>12.0</td>\n",
       "      <td>21553</td>\n",
       "      <td>3</td>\n",
       "      <td>1</td>\n",
       "      <td>Lowfat 2% Milkfat Cottage Cheese</td>\n",
       "      <td>108</td>\n",
       "      <td>16</td>\n",
       "      <td>14900.0</td>\n",
       "      <td>both</td>\n",
       "      <td>Busiest day</td>\n",
       "      <td>Busiest days</td>\n",
       "      <td>Average Orders</td>\n",
       "      <td>4</td>\n",
       "      <td>New customer</td>\n",
       "      <td>1154.792308</td>\n",
       "      <td>High Spender</td>\n",
       "      <td>12.0</td>\n",
       "      <td>Regular customer</td>\n",
       "    </tr>\n",
       "    <tr>\n",
       "      <th>53672</th>\n",
       "      <td>229704</td>\n",
       "      <td>342</td>\n",
       "      <td>8</td>\n",
       "      <td>1</td>\n",
       "      <td>19</td>\n",
       "      <td>30.0</td>\n",
       "      <td>21553</td>\n",
       "      <td>9</td>\n",
       "      <td>0</td>\n",
       "      <td>Lowfat 2% Milkfat Cottage Cheese</td>\n",
       "      <td>108</td>\n",
       "      <td>16</td>\n",
       "      <td>14900.0</td>\n",
       "      <td>both</td>\n",
       "      <td>Regularly busy</td>\n",
       "      <td>Busiest days</td>\n",
       "      <td>Average Orders</td>\n",
       "      <td>16</td>\n",
       "      <td>Regular customer</td>\n",
       "      <td>114.426619</td>\n",
       "      <td>High Spender</td>\n",
       "      <td>23.0</td>\n",
       "      <td>Non-frequent customer</td>\n",
       "    </tr>\n",
       "    <tr>\n",
       "      <th>...</th>\n",
       "      <td>...</td>\n",
       "      <td>...</td>\n",
       "      <td>...</td>\n",
       "      <td>...</td>\n",
       "      <td>...</td>\n",
       "      <td>...</td>\n",
       "      <td>...</td>\n",
       "      <td>...</td>\n",
       "      <td>...</td>\n",
       "      <td>...</td>\n",
       "      <td>...</td>\n",
       "      <td>...</td>\n",
       "      <td>...</td>\n",
       "      <td>...</td>\n",
       "      <td>...</td>\n",
       "      <td>...</td>\n",
       "      <td>...</td>\n",
       "      <td>...</td>\n",
       "      <td>...</td>\n",
       "      <td>...</td>\n",
       "      <td>...</td>\n",
       "      <td>...</td>\n",
       "      <td>...</td>\n",
       "    </tr>\n",
       "    <tr>\n",
       "      <th>32320511</th>\n",
       "      <td>3172853</td>\n",
       "      <td>205650</td>\n",
       "      <td>18</td>\n",
       "      <td>1</td>\n",
       "      <td>9</td>\n",
       "      <td>7.0</td>\n",
       "      <td>21553</td>\n",
       "      <td>17</td>\n",
       "      <td>1</td>\n",
       "      <td>Lowfat 2% Milkfat Cottage Cheese</td>\n",
       "      <td>108</td>\n",
       "      <td>16</td>\n",
       "      <td>14900.0</td>\n",
       "      <td>both</td>\n",
       "      <td>Regularly busy</td>\n",
       "      <td>Busiest days</td>\n",
       "      <td>Most Orders</td>\n",
       "      <td>25</td>\n",
       "      <td>Regular customer</td>\n",
       "      <td>351.141618</td>\n",
       "      <td>High Spender</td>\n",
       "      <td>6.0</td>\n",
       "      <td>Frequent customer</td>\n",
       "    </tr>\n",
       "    <tr>\n",
       "      <th>32347717</th>\n",
       "      <td>2504315</td>\n",
       "      <td>205818</td>\n",
       "      <td>3</td>\n",
       "      <td>5</td>\n",
       "      <td>15</td>\n",
       "      <td>3.0</td>\n",
       "      <td>21553</td>\n",
       "      <td>13</td>\n",
       "      <td>0</td>\n",
       "      <td>Lowfat 2% Milkfat Cottage Cheese</td>\n",
       "      <td>108</td>\n",
       "      <td>16</td>\n",
       "      <td>14900.0</td>\n",
       "      <td>both</td>\n",
       "      <td>Regularly busy</td>\n",
       "      <td>Regularly busy</td>\n",
       "      <td>Most Orders</td>\n",
       "      <td>25</td>\n",
       "      <td>Regular customer</td>\n",
       "      <td>170.073770</td>\n",
       "      <td>High Spender</td>\n",
       "      <td>13.0</td>\n",
       "      <td>Regular customer</td>\n",
       "    </tr>\n",
       "    <tr>\n",
       "      <th>32347727</th>\n",
       "      <td>1108388</td>\n",
       "      <td>205818</td>\n",
       "      <td>5</td>\n",
       "      <td>4</td>\n",
       "      <td>5</td>\n",
       "      <td>1.0</td>\n",
       "      <td>21553</td>\n",
       "      <td>5</td>\n",
       "      <td>1</td>\n",
       "      <td>Lowfat 2% Milkfat Cottage Cheese</td>\n",
       "      <td>108</td>\n",
       "      <td>16</td>\n",
       "      <td>14900.0</td>\n",
       "      <td>both</td>\n",
       "      <td>Least busy</td>\n",
       "      <td>Least busy</td>\n",
       "      <td>Fewest Orders</td>\n",
       "      <td>25</td>\n",
       "      <td>Regular customer</td>\n",
       "      <td>170.073770</td>\n",
       "      <td>High Spender</td>\n",
       "      <td>13.0</td>\n",
       "      <td>Regular customer</td>\n",
       "    </tr>\n",
       "    <tr>\n",
       "      <th>32380527</th>\n",
       "      <td>1916142</td>\n",
       "      <td>206049</td>\n",
       "      <td>1</td>\n",
       "      <td>2</td>\n",
       "      <td>17</td>\n",
       "      <td>NaN</td>\n",
       "      <td>21553</td>\n",
       "      <td>2</td>\n",
       "      <td>0</td>\n",
       "      <td>Lowfat 2% Milkfat Cottage Cheese</td>\n",
       "      <td>108</td>\n",
       "      <td>16</td>\n",
       "      <td>14900.0</td>\n",
       "      <td>both</td>\n",
       "      <td>Regularly busy</td>\n",
       "      <td>Regularly busy</td>\n",
       "      <td>Average Orders</td>\n",
       "      <td>5</td>\n",
       "      <td>New customer</td>\n",
       "      <td>938.031250</td>\n",
       "      <td>High Spender</td>\n",
       "      <td>7.0</td>\n",
       "      <td>Frequent customer</td>\n",
       "    </tr>\n",
       "    <tr>\n",
       "      <th>32380551</th>\n",
       "      <td>379732</td>\n",
       "      <td>206049</td>\n",
       "      <td>4</td>\n",
       "      <td>1</td>\n",
       "      <td>14</td>\n",
       "      <td>5.0</td>\n",
       "      <td>21553</td>\n",
       "      <td>4</td>\n",
       "      <td>1</td>\n",
       "      <td>Lowfat 2% Milkfat Cottage Cheese</td>\n",
       "      <td>108</td>\n",
       "      <td>16</td>\n",
       "      <td>14900.0</td>\n",
       "      <td>both</td>\n",
       "      <td>Regularly busy</td>\n",
       "      <td>Busiest days</td>\n",
       "      <td>Most Orders</td>\n",
       "      <td>5</td>\n",
       "      <td>New customer</td>\n",
       "      <td>938.031250</td>\n",
       "      <td>High Spender</td>\n",
       "      <td>7.0</td>\n",
       "      <td>Frequent customer</td>\n",
       "    </tr>\n",
       "  </tbody>\n",
       "</table>\n",
       "<p>5127 rows × 23 columns</p>\n",
       "</div>"
      ],
      "text/plain": [
       "          order_id  user_id  order_number  orders_day_of_the_week  \\\n",
       "1576        912404       17            12                       2   \n",
       "1638        603376       17            22                       6   \n",
       "16522      3264360      135             2                       2   \n",
       "16528       892534      135             3                       0   \n",
       "53672       229704      342             8                       1   \n",
       "...            ...      ...           ...                     ...   \n",
       "32320511   3172853   205650            18                       1   \n",
       "32347717   2504315   205818             3                       5   \n",
       "32347727   1108388   205818             5                       4   \n",
       "32380527   1916142   206049             1                       2   \n",
       "32380551    379732   206049             4                       1   \n",
       "\n",
       "          order_hour_of_day  days_since_prior_order  product_id  \\\n",
       "1576                     14                     5.0       21553   \n",
       "1638                     16                     4.0       21553   \n",
       "16522                    21                    13.0       21553   \n",
       "16528                     8                    12.0       21553   \n",
       "53672                    19                    30.0       21553   \n",
       "...                     ...                     ...         ...   \n",
       "32320511                  9                     7.0       21553   \n",
       "32347717                 15                     3.0       21553   \n",
       "32347727                  5                     1.0       21553   \n",
       "32380527                 17                     NaN       21553   \n",
       "32380551                 14                     5.0       21553   \n",
       "\n",
       "          add_to_cart_order  reordered                      product_name  \\\n",
       "1576                      5          0  Lowfat 2% Milkfat Cottage Cheese   \n",
       "1638                      3          1  Lowfat 2% Milkfat Cottage Cheese   \n",
       "16522                     6          0  Lowfat 2% Milkfat Cottage Cheese   \n",
       "16528                     3          1  Lowfat 2% Milkfat Cottage Cheese   \n",
       "53672                     9          0  Lowfat 2% Milkfat Cottage Cheese   \n",
       "...                     ...        ...                               ...   \n",
       "32320511                 17          1  Lowfat 2% Milkfat Cottage Cheese   \n",
       "32347717                 13          0  Lowfat 2% Milkfat Cottage Cheese   \n",
       "32347727                  5          1  Lowfat 2% Milkfat Cottage Cheese   \n",
       "32380527                  2          0  Lowfat 2% Milkfat Cottage Cheese   \n",
       "32380551                  4          1  Lowfat 2% Milkfat Cottage Cheese   \n",
       "\n",
       "          aisle_id  department_id   prices merge     busiest_day  \\\n",
       "1576           108             16  14900.0  both  Regularly busy   \n",
       "1638           108             16  14900.0  both  Regularly busy   \n",
       "16522          108             16  14900.0  both  Regularly busy   \n",
       "16528          108             16  14900.0  both     Busiest day   \n",
       "53672          108             16  14900.0  both  Regularly busy   \n",
       "...            ...            ...      ...   ...             ...   \n",
       "32320511       108             16  14900.0  both  Regularly busy   \n",
       "32347717       108             16  14900.0  both  Regularly busy   \n",
       "32347727       108             16  14900.0  both      Least busy   \n",
       "32380527       108             16  14900.0  both  Regularly busy   \n",
       "32380551       108             16  14900.0  both  Regularly busy   \n",
       "\n",
       "            busiest_days busiest_period_of_day  max_order      loyalty_flag  \\\n",
       "1576      Regularly busy           Most Orders         40  Regular customer   \n",
       "1638      Regularly busy           Most Orders         40  Regular customer   \n",
       "16522     Regularly busy        Average Orders          4      New customer   \n",
       "16528       Busiest days        Average Orders          4      New customer   \n",
       "53672       Busiest days        Average Orders         16  Regular customer   \n",
       "...                  ...                   ...        ...               ...   \n",
       "32320511    Busiest days           Most Orders         25  Regular customer   \n",
       "32347717  Regularly busy           Most Orders         25  Regular customer   \n",
       "32347727      Least busy         Fewest Orders         25  Regular customer   \n",
       "32380527  Regularly busy        Average Orders          5      New customer   \n",
       "32380551    Busiest days           Most Orders          5      New customer   \n",
       "\n",
       "          average_price  spender_type  median_days_since_order  \\\n",
       "1576         108.648299  High Spender                      5.0   \n",
       "1638         108.648299  High Spender                      5.0   \n",
       "16522       1154.792308  High Spender                     12.0   \n",
       "16528       1154.792308  High Spender                     12.0   \n",
       "53672        114.426619  High Spender                     23.0   \n",
       "...                 ...           ...                      ...   \n",
       "32320511     351.141618  High Spender                      6.0   \n",
       "32347717     170.073770  High Spender                     13.0   \n",
       "32347727     170.073770  High Spender                     13.0   \n",
       "32380527     938.031250  High Spender                      7.0   \n",
       "32380551     938.031250  High Spender                      7.0   \n",
       "\n",
       "             customer_frequency  \n",
       "1576          Frequent customer  \n",
       "1638          Frequent customer  \n",
       "16522          Regular customer  \n",
       "16528          Regular customer  \n",
       "53672     Non-frequent customer  \n",
       "...                         ...  \n",
       "32320511      Frequent customer  \n",
       "32347717       Regular customer  \n",
       "32347727       Regular customer  \n",
       "32380527      Frequent customer  \n",
       "32380551      Frequent customer  \n",
       "\n",
       "[5127 rows x 23 columns]"
      ]
     },
     "execution_count": 47,
     "metadata": {},
     "output_type": "execute_result"
    }
   ],
   "source": [
    "#checking for values in prices more than 100\n",
    "ords_prods_merge.loc[ords_prods_merge['prices'] > 100]"
   ]
  },
  {
   "cell_type": "code",
   "execution_count": 45,
   "id": "c5812338-6cd8-4155-a30c-8ccbafab88db",
   "metadata": {},
   "outputs": [],
   "source": [
    "#removing column view limit since i cannot see the prices column\n",
    "pd.set_option('display.max_columns', None) "
   ]
  },
  {
   "cell_type": "code",
   "execution_count": 49,
   "id": "ffb23374-acae-4889-a1e6-f68d0733d53d",
   "metadata": {},
   "outputs": [],
   "source": [
    "#turning our outliers in NaN so they do not skew our results\n",
    "ords_prods_merge.loc[ords_prods_merge['prices'] >100, 'prices'] = np.nan"
   ]
  },
  {
   "cell_type": "code",
   "execution_count": 51,
   "id": "0dc40e17-7aab-4cf5-8a1b-e2cad20f0689",
   "metadata": {},
   "outputs": [
    {
     "data": {
      "text/plain": [
       "25.0"
      ]
     },
     "execution_count": 51,
     "metadata": {},
     "output_type": "execute_result"
    }
   ],
   "source": [
    "ords_prods_merge['prices'].max()"
   ]
  },
  {
   "cell_type": "code",
   "execution_count": 53,
   "id": "3bbc07a7-602f-439f-967f-8af42d515972",
   "metadata": {},
   "outputs": [
    {
     "data": {
      "image/png": "[encoded data removed]",
      "text/plain": [
       "<Figure size 640x480 with 1 Axes>"
      ]
     },
     "metadata": {},
     "output_type": "display_data"
    }
   ],
   "source": [
    "hist = ords_prods_merge['prices'].plot.hist(bins = 25)"
   ]
  },
  {
   "cell_type": "code",
   "execution_count": 55,
   "id": "e29bb233-6482-451f-bfe3-5be1e1f56ede",
   "metadata": {},
   "outputs": [
    {
     "data": {
      "image/png": "[encoded data removed]",
      "text/plain": [
       "<Figure size 640x480 with 1 Axes>"
      ]
     },
     "metadata": {},
     "output_type": "display_data"
    }
   ],
   "source": [
    "#same thing increasing number of bins\n",
    "hist_2 = ords_prods_merge['prices'].plot.hist(bins = 70)"
   ]
  },
  {
   "cell_type": "code",
   "execution_count": 57,
   "id": "d91454f6-a239-4537-9620-78e2e4b580b5",
   "metadata": {},
   "outputs": [],
   "source": [
    "#exporting as image \n",
    "hist_2.figure.savefig(os.path.join(path, '04 Analysis','Visualizations', 'hist_prices.png'))"
   ]
  },
  {
   "cell_type": "code",
   "execution_count": 59,
   "id": "b650a269-25a8-4dae-9711-6de539ddc211",
   "metadata": {},
   "outputs": [],
   "source": [
    "#creating a random sample from out df -- create random seed for every value in the df then test if the seed is above or below .7 for a 70/30 split of data \n",
    "np.random.seed(4)\n",
    "dev = np.random.rand(len(ords_prods_merge)) <= 0.7"
   ]
  },
  {
   "cell_type": "code",
   "execution_count": 61,
   "id": "110c7701-916b-42d6-873b-21f8024b0384",
   "metadata": {},
   "outputs": [],
   "source": [
    "#actually splitting the data ~dev means 'not'dev thus the 30% that was over .7\n",
    "big = ords_prods_merge[dev]\n",
    "small = ords_prods_merge[~dev]"
   ]
  },
  {
   "cell_type": "code",
   "execution_count": 63,
   "id": "0beb564c-0358-404f-aec3-0b94706ccde9",
   "metadata": {},
   "outputs": [
    {
     "data": {
      "text/plain": [
       "32404859"
      ]
     },
     "execution_count": 63,
     "metadata": {},
     "output_type": "execute_result"
    }
   ],
   "source": [
    "#checking to make sure it worked using len\n",
    "len(ords_prods_merge)"
   ]
  },
  {
   "cell_type": "code",
   "execution_count": 65,
   "id": "5e2965b0-c029-4234-b87c-089d97387545",
   "metadata": {},
   "outputs": [
    {
     "data": {
      "text/plain": [
       "32404859"
      ]
     },
     "execution_count": 65,
     "metadata": {},
     "output_type": "execute_result"
    }
   ],
   "source": [
    "len(big) + len(small)"
   ]
  },
  {
   "cell_type": "code",
   "execution_count": 69,
   "id": "ef867ea0-6a56-4e00-80c7-510bbccc1863",
   "metadata": {},
   "outputs": [],
   "source": [
    "#removing all other columns from our subsets for efficiency and simplicity\n",
    "df_2 = small[['orders_day_of_the_week','prices']]"
   ]
  },
  {
   "cell_type": "code",
   "execution_count": 73,
   "id": "68256723-b33f-4314-8f6f-928ed7f68195",
   "metadata": {},
   "outputs": [
    {
     "data": {
      "image/png": "[encoded data removed]",
      "text/plain": [
       "<Figure size 640x480 with 1 Axes>"
      ]
     },
     "metadata": {},
     "output_type": "display_data"
    }
   ],
   "source": [
    "#creating line chat from subset\n",
    "line = sns.lineplot(data = df_2, x = 'orders_day_of_the_week',y = 'prices')"
   ]
  },
  {
   "cell_type": "code",
   "execution_count": 75,
   "id": "d4c52904-44b2-4e64-a871-835722b92227",
   "metadata": {},
   "outputs": [],
   "source": [
    "#exporting as image \n",
    "line.figure.savefig(os.path.join(path, '04 Analysis','Visualizations', 'line_prices_dow.png'))"
   ]
  },
  {
   "cell_type": "code",
   "execution_count": null,
   "id": "1c69ccdc-270d-40c4-ac2e-a842e4449ce7",
   "metadata": {},
   "outputs": [],
   "source": []
  }
 ],
 "metadata": {
  "kernelspec": {
   "display_name": "Python [conda env:base] *",
   "language": "python",
   "name": "conda-base-py"
  },
  "language_info": {
   "codemirror_mode": {
    "name": "ipython",
    "version": 3
   },
   "file_extension": ".py",
   "mimetype": "text/x-python",
   "name": "python",
   "nbconvert_exporter": "python",
   "pygments_lexer": "ipython3",
   "version": "3.12.7"
  }
 },
 "nbformat": 4,
 "nbformat_minor": 5
}
