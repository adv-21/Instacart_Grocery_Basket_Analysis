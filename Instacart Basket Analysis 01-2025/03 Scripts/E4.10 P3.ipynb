{
 "cells": [
  {
   "cell_type": "code",
   "execution_count": 2,
   "id": "052eee16-7f2b-4261-9344-59e8e6df3f28",
   "metadata": {},
   "outputs": [],
   "source": [
    "#importing libraries\n",
    "import pandas as pd\n",
    "import numpy as np\n",
    "import os\n",
    "import matplotlib.pyplot as plt\n",
    "import seaborn as sns\n",
    "import scipy"
   ]
  },
  {
   "cell_type": "code",
   "execution_count": 3,
   "id": "08678b42-dd09-4aaf-aa8f-984595a3514e",
   "metadata": {},
   "outputs": [],
   "source": [
    "#creating path for easier import of data\n",
    "path = r'C:\\Users\\Stugots\\Desktop\\Bootcamp Stuff\\Intro to Python\\Instacart Basket Analysis 01-2025'"
   ]
  },
  {
   "cell_type": "code",
   "execution_count": 4,
   "id": "b5bd3e6b-c030-407b-86d6-52779187d6f4",
   "metadata": {},
   "outputs": [],
   "source": [
    "#importing data \n",
    "df = pd.read_pickle(os.path.join(path, '02 Data' , 'Prepared Data', 'orders_products_cust_dept_final.pkl'))"
   ]
  },
  {
   "cell_type": "code",
   "execution_count": 5,
   "id": "2648d510-2d4a-488f-9185-9631856c900c",
   "metadata": {},
   "outputs": [],
   "source": [
    "#removing column display limit\n",
    "pd.set_option('display.max_columns', None)"
   ]
  },
  {
   "cell_type": "code",
   "execution_count": 6,
   "id": "0e73a7d7-8072-478b-aec6-a0a89e42dcb4",
   "metadata": {},
   "outputs": [],
   "source": [
    "#cleaning filler numbers from prices"
   ]
  },
  {
   "cell_type": "code",
   "execution_count": 7,
   "id": "dfd9965d-5017-4176-9d69-18826e46f147",
   "metadata": {},
   "outputs": [
    {
     "data": {
      "text/plain": [
       "prices\n",
       "12.3    597302\n",
       "10.3    491228\n",
       "4.0     429903\n",
       "6.3     418555\n",
       "1.3     407143\n",
       "         ...  \n",
       "20.2       112\n",
       "22.7        96\n",
       "21.5        76\n",
       "18.3        10\n",
       "21.0         8\n",
       "Name: count, Length: 242, dtype: int64"
      ]
     },
     "execution_count": 7,
     "metadata": {},
     "output_type": "execute_result"
    }
   ],
   "source": [
    "df['prices'].value_counts()"
   ]
  },
  {
   "cell_type": "code",
   "execution_count": 8,
   "id": "94e8401d-4b1e-4f87-bf6c-998ce2f428df",
   "metadata": {},
   "outputs": [],
   "source": [
    "replace = [14900.0 , 99999.0]"
   ]
  },
  {
   "cell_type": "code",
   "execution_count": 9,
   "id": "c970fe19-c22a-42b2-b17c-9491421c1ec7",
   "metadata": {},
   "outputs": [],
   "source": [
    "df['prices'] = df['prices'].replace(replace, np.nan)"
   ]
  },
  {
   "cell_type": "code",
   "execution_count": 251,
   "id": "8e74569b-8c2f-4a5c-8c8a-c02dc18c22d4",
   "metadata": {
    "scrolled": true
   },
   "outputs": [],
   "source": [
    "df.to_pickle(os.path.join(path, '02 Data' , 'Prepared Data' , 'orders_products_cust_dept_final2.pkl'))"
   ]
  },
  {
   "cell_type": "code",
   "execution_count": 11,
   "id": "f96d0c34-8d5c-4e3d-847d-cd2667c6a7e5",
   "metadata": {},
   "outputs": [
    {
     "data": {
      "text/html": [
       "<div>\n",
       "<style scoped>\n",
       "    .dataframe tbody tr th:only-of-type {\n",
       "        vertical-align: middle;\n",
       "    }\n",
       "\n",
       "    .dataframe tbody tr th {\n",
       "        vertical-align: top;\n",
       "    }\n",
       "\n",
       "    .dataframe thead th {\n",
       "        text-align: right;\n",
       "    }\n",
       "</style>\n",
       "<table border=\"1\" class=\"dataframe\">\n",
       "  <thead>\n",
       "    <tr style=\"text-align: right;\">\n",
       "      <th></th>\n",
       "      <th>order_id</th>\n",
       "      <th>user_id</th>\n",
       "      <th>order_number</th>\n",
       "      <th>orders_day_of_the_week</th>\n",
       "      <th>order_hour_of_day</th>\n",
       "      <th>days_since_prior_order</th>\n",
       "      <th>product_id</th>\n",
       "      <th>add_to_cart_order</th>\n",
       "      <th>reordered</th>\n",
       "      <th>product_name</th>\n",
       "      <th>aisle_id</th>\n",
       "      <th>department_id</th>\n",
       "      <th>prices</th>\n",
       "      <th>merge</th>\n",
       "      <th>busiest_day</th>\n",
       "      <th>busiest_days</th>\n",
       "      <th>busiest_period_of_day</th>\n",
       "      <th>max_order</th>\n",
       "      <th>loyalty_flag</th>\n",
       "      <th>average_price</th>\n",
       "      <th>spender_type</th>\n",
       "      <th>median_days_since_order</th>\n",
       "      <th>customer_frequency</th>\n",
       "      <th>Gender</th>\n",
       "      <th>State</th>\n",
       "      <th>Age</th>\n",
       "      <th>Date Joined</th>\n",
       "      <th>Number of Dependants</th>\n",
       "      <th>Family Status</th>\n",
       "      <th>Income</th>\n",
       "      <th>Region</th>\n",
       "      <th>activity_flag</th>\n",
       "      <th>Income Group</th>\n",
       "      <th>Age Group</th>\n",
       "      <th>Dependant Status</th>\n",
       "      <th>department</th>\n",
       "      <th>_merge</th>\n",
       "    </tr>\n",
       "  </thead>\n",
       "  <tbody>\n",
       "    <tr>\n",
       "      <th>0</th>\n",
       "      <td>2539329</td>\n",
       "      <td>1</td>\n",
       "      <td>1</td>\n",
       "      <td>2</td>\n",
       "      <td>8</td>\n",
       "      <td>NaN</td>\n",
       "      <td>196</td>\n",
       "      <td>1</td>\n",
       "      <td>0</td>\n",
       "      <td>Soda</td>\n",
       "      <td>77</td>\n",
       "      <td>7</td>\n",
       "      <td>9.0</td>\n",
       "      <td>both</td>\n",
       "      <td>Regularly busy</td>\n",
       "      <td>Regularly busy</td>\n",
       "      <td>Average Orders</td>\n",
       "      <td>10</td>\n",
       "      <td>New customer</td>\n",
       "      <td>6.367797</td>\n",
       "      <td>Low Spender</td>\n",
       "      <td>20.5</td>\n",
       "      <td>Non-frequent customer</td>\n",
       "      <td>Female</td>\n",
       "      <td>Alabama</td>\n",
       "      <td>31</td>\n",
       "      <td>2/17/2019</td>\n",
       "      <td>3</td>\n",
       "      <td>married</td>\n",
       "      <td>40423</td>\n",
       "      <td>South</td>\n",
       "      <td>high activity customer</td>\n",
       "      <td>low income</td>\n",
       "      <td>adult</td>\n",
       "      <td>Yes</td>\n",
       "      <td>beverages</td>\n",
       "      <td>both</td>\n",
       "    </tr>\n",
       "    <tr>\n",
       "      <th>1</th>\n",
       "      <td>2539329</td>\n",
       "      <td>1</td>\n",
       "      <td>1</td>\n",
       "      <td>2</td>\n",
       "      <td>8</td>\n",
       "      <td>NaN</td>\n",
       "      <td>14084</td>\n",
       "      <td>2</td>\n",
       "      <td>0</td>\n",
       "      <td>Organic Unsweetened Vanilla Almond Milk</td>\n",
       "      <td>91</td>\n",
       "      <td>16</td>\n",
       "      <td>12.5</td>\n",
       "      <td>both</td>\n",
       "      <td>Regularly busy</td>\n",
       "      <td>Regularly busy</td>\n",
       "      <td>Average Orders</td>\n",
       "      <td>10</td>\n",
       "      <td>New customer</td>\n",
       "      <td>6.367797</td>\n",
       "      <td>Low Spender</td>\n",
       "      <td>20.5</td>\n",
       "      <td>Non-frequent customer</td>\n",
       "      <td>Female</td>\n",
       "      <td>Alabama</td>\n",
       "      <td>31</td>\n",
       "      <td>2/17/2019</td>\n",
       "      <td>3</td>\n",
       "      <td>married</td>\n",
       "      <td>40423</td>\n",
       "      <td>South</td>\n",
       "      <td>high activity customer</td>\n",
       "      <td>low income</td>\n",
       "      <td>adult</td>\n",
       "      <td>Yes</td>\n",
       "      <td>dairy eggs</td>\n",
       "      <td>both</td>\n",
       "    </tr>\n",
       "    <tr>\n",
       "      <th>2</th>\n",
       "      <td>2539329</td>\n",
       "      <td>1</td>\n",
       "      <td>1</td>\n",
       "      <td>2</td>\n",
       "      <td>8</td>\n",
       "      <td>NaN</td>\n",
       "      <td>12427</td>\n",
       "      <td>3</td>\n",
       "      <td>0</td>\n",
       "      <td>Original Beef Jerky</td>\n",
       "      <td>23</td>\n",
       "      <td>19</td>\n",
       "      <td>4.4</td>\n",
       "      <td>both</td>\n",
       "      <td>Regularly busy</td>\n",
       "      <td>Regularly busy</td>\n",
       "      <td>Average Orders</td>\n",
       "      <td>10</td>\n",
       "      <td>New customer</td>\n",
       "      <td>6.367797</td>\n",
       "      <td>Low Spender</td>\n",
       "      <td>20.5</td>\n",
       "      <td>Non-frequent customer</td>\n",
       "      <td>Female</td>\n",
       "      <td>Alabama</td>\n",
       "      <td>31</td>\n",
       "      <td>2/17/2019</td>\n",
       "      <td>3</td>\n",
       "      <td>married</td>\n",
       "      <td>40423</td>\n",
       "      <td>South</td>\n",
       "      <td>high activity customer</td>\n",
       "      <td>low income</td>\n",
       "      <td>adult</td>\n",
       "      <td>Yes</td>\n",
       "      <td>snacks</td>\n",
       "      <td>both</td>\n",
       "    </tr>\n",
       "    <tr>\n",
       "      <th>3</th>\n",
       "      <td>2539329</td>\n",
       "      <td>1</td>\n",
       "      <td>1</td>\n",
       "      <td>2</td>\n",
       "      <td>8</td>\n",
       "      <td>NaN</td>\n",
       "      <td>26088</td>\n",
       "      <td>4</td>\n",
       "      <td>0</td>\n",
       "      <td>Aged White Cheddar Popcorn</td>\n",
       "      <td>23</td>\n",
       "      <td>19</td>\n",
       "      <td>4.7</td>\n",
       "      <td>both</td>\n",
       "      <td>Regularly busy</td>\n",
       "      <td>Regularly busy</td>\n",
       "      <td>Average Orders</td>\n",
       "      <td>10</td>\n",
       "      <td>New customer</td>\n",
       "      <td>6.367797</td>\n",
       "      <td>Low Spender</td>\n",
       "      <td>20.5</td>\n",
       "      <td>Non-frequent customer</td>\n",
       "      <td>Female</td>\n",
       "      <td>Alabama</td>\n",
       "      <td>31</td>\n",
       "      <td>2/17/2019</td>\n",
       "      <td>3</td>\n",
       "      <td>married</td>\n",
       "      <td>40423</td>\n",
       "      <td>South</td>\n",
       "      <td>high activity customer</td>\n",
       "      <td>low income</td>\n",
       "      <td>adult</td>\n",
       "      <td>Yes</td>\n",
       "      <td>snacks</td>\n",
       "      <td>both</td>\n",
       "    </tr>\n",
       "    <tr>\n",
       "      <th>4</th>\n",
       "      <td>2539329</td>\n",
       "      <td>1</td>\n",
       "      <td>1</td>\n",
       "      <td>2</td>\n",
       "      <td>8</td>\n",
       "      <td>NaN</td>\n",
       "      <td>26405</td>\n",
       "      <td>5</td>\n",
       "      <td>0</td>\n",
       "      <td>XL Pick-A-Size Paper Towel Rolls</td>\n",
       "      <td>54</td>\n",
       "      <td>17</td>\n",
       "      <td>1.0</td>\n",
       "      <td>both</td>\n",
       "      <td>Regularly busy</td>\n",
       "      <td>Regularly busy</td>\n",
       "      <td>Average Orders</td>\n",
       "      <td>10</td>\n",
       "      <td>New customer</td>\n",
       "      <td>6.367797</td>\n",
       "      <td>Low Spender</td>\n",
       "      <td>20.5</td>\n",
       "      <td>Non-frequent customer</td>\n",
       "      <td>Female</td>\n",
       "      <td>Alabama</td>\n",
       "      <td>31</td>\n",
       "      <td>2/17/2019</td>\n",
       "      <td>3</td>\n",
       "      <td>married</td>\n",
       "      <td>40423</td>\n",
       "      <td>South</td>\n",
       "      <td>high activity customer</td>\n",
       "      <td>low income</td>\n",
       "      <td>adult</td>\n",
       "      <td>Yes</td>\n",
       "      <td>household</td>\n",
       "      <td>both</td>\n",
       "    </tr>\n",
       "  </tbody>\n",
       "</table>\n",
       "</div>"
      ],
      "text/plain": [
       "   order_id  user_id  order_number  orders_day_of_the_week  order_hour_of_day  \\\n",
       "0   2539329        1             1                       2                  8   \n",
       "1   2539329        1             1                       2                  8   \n",
       "2   2539329        1             1                       2                  8   \n",
       "3   2539329        1             1                       2                  8   \n",
       "4   2539329        1             1                       2                  8   \n",
       "\n",
       "   days_since_prior_order  product_id  add_to_cart_order  reordered  \\\n",
       "0                     NaN         196                  1          0   \n",
       "1                     NaN       14084                  2          0   \n",
       "2                     NaN       12427                  3          0   \n",
       "3                     NaN       26088                  4          0   \n",
       "4                     NaN       26405                  5          0   \n",
       "\n",
       "                              product_name  aisle_id  department_id  prices  \\\n",
       "0                                     Soda        77              7     9.0   \n",
       "1  Organic Unsweetened Vanilla Almond Milk        91             16    12.5   \n",
       "2                      Original Beef Jerky        23             19     4.4   \n",
       "3               Aged White Cheddar Popcorn        23             19     4.7   \n",
       "4         XL Pick-A-Size Paper Towel Rolls        54             17     1.0   \n",
       "\n",
       "  merge     busiest_day    busiest_days busiest_period_of_day  max_order  \\\n",
       "0  both  Regularly busy  Regularly busy        Average Orders         10   \n",
       "1  both  Regularly busy  Regularly busy        Average Orders         10   \n",
       "2  both  Regularly busy  Regularly busy        Average Orders         10   \n",
       "3  both  Regularly busy  Regularly busy        Average Orders         10   \n",
       "4  both  Regularly busy  Regularly busy        Average Orders         10   \n",
       "\n",
       "   loyalty_flag  average_price spender_type  median_days_since_order  \\\n",
       "0  New customer       6.367797  Low Spender                     20.5   \n",
       "1  New customer       6.367797  Low Spender                     20.5   \n",
       "2  New customer       6.367797  Low Spender                     20.5   \n",
       "3  New customer       6.367797  Low Spender                     20.5   \n",
       "4  New customer       6.367797  Low Spender                     20.5   \n",
       "\n",
       "      customer_frequency  Gender    State  Age Date Joined  \\\n",
       "0  Non-frequent customer  Female  Alabama   31   2/17/2019   \n",
       "1  Non-frequent customer  Female  Alabama   31   2/17/2019   \n",
       "2  Non-frequent customer  Female  Alabama   31   2/17/2019   \n",
       "3  Non-frequent customer  Female  Alabama   31   2/17/2019   \n",
       "4  Non-frequent customer  Female  Alabama   31   2/17/2019   \n",
       "\n",
       "   Number of Dependants Family Status  Income Region           activity_flag  \\\n",
       "0                     3       married   40423  South  high activity customer   \n",
       "1                     3       married   40423  South  high activity customer   \n",
       "2                     3       married   40423  South  high activity customer   \n",
       "3                     3       married   40423  South  high activity customer   \n",
       "4                     3       married   40423  South  high activity customer   \n",
       "\n",
       "  Income Group Age Group Dependant Status  department _merge  \n",
       "0   low income     adult              Yes   beverages   both  \n",
       "1   low income     adult              Yes  dairy eggs   both  \n",
       "2   low income     adult              Yes      snacks   both  \n",
       "3   low income     adult              Yes      snacks   both  \n",
       "4   low income     adult              Yes   household   both  "
      ]
     },
     "execution_count": 11,
     "metadata": {},
     "output_type": "execute_result"
    }
   ],
   "source": [
    "df.head()"
   ]
  },
  {
   "cell_type": "code",
   "execution_count": 12,
   "id": "677478dc-d122-4059-b7c9-24f673daffa1",
   "metadata": {},
   "outputs": [],
   "source": [
    "df = df.drop(columns = ['merge','_merge'])"
   ]
  },
  {
   "cell_type": "code",
   "execution_count": 13,
   "id": "3162c73b-ceb6-4c4c-a6f9-2e5939373627",
   "metadata": {},
   "outputs": [
    {
     "data": {
      "text/html": [
       "<div>\n",
       "<style scoped>\n",
       "    .dataframe tbody tr th:only-of-type {\n",
       "        vertical-align: middle;\n",
       "    }\n",
       "\n",
       "    .dataframe tbody tr th {\n",
       "        vertical-align: top;\n",
       "    }\n",
       "\n",
       "    .dataframe thead th {\n",
       "        text-align: right;\n",
       "    }\n",
       "</style>\n",
       "<table border=\"1\" class=\"dataframe\">\n",
       "  <thead>\n",
       "    <tr style=\"text-align: right;\">\n",
       "      <th></th>\n",
       "      <th>order_id</th>\n",
       "      <th>user_id</th>\n",
       "      <th>order_number</th>\n",
       "      <th>orders_day_of_the_week</th>\n",
       "      <th>order_hour_of_day</th>\n",
       "      <th>days_since_prior_order</th>\n",
       "      <th>product_id</th>\n",
       "      <th>add_to_cart_order</th>\n",
       "      <th>reordered</th>\n",
       "      <th>product_name</th>\n",
       "      <th>aisle_id</th>\n",
       "      <th>department_id</th>\n",
       "      <th>prices</th>\n",
       "      <th>busiest_day</th>\n",
       "      <th>busiest_days</th>\n",
       "      <th>busiest_period_of_day</th>\n",
       "      <th>max_order</th>\n",
       "      <th>loyalty_flag</th>\n",
       "      <th>average_price</th>\n",
       "      <th>spender_type</th>\n",
       "      <th>median_days_since_order</th>\n",
       "      <th>customer_frequency</th>\n",
       "      <th>Gender</th>\n",
       "      <th>State</th>\n",
       "      <th>Age</th>\n",
       "      <th>Date Joined</th>\n",
       "      <th>Number of Dependants</th>\n",
       "      <th>Family Status</th>\n",
       "      <th>Income</th>\n",
       "      <th>Region</th>\n",
       "      <th>activity_flag</th>\n",
       "      <th>Income Group</th>\n",
       "      <th>Age Group</th>\n",
       "      <th>Dependant Status</th>\n",
       "      <th>department</th>\n",
       "    </tr>\n",
       "  </thead>\n",
       "  <tbody>\n",
       "    <tr>\n",
       "      <th>0</th>\n",
       "      <td>2539329</td>\n",
       "      <td>1</td>\n",
       "      <td>1</td>\n",
       "      <td>2</td>\n",
       "      <td>8</td>\n",
       "      <td>NaN</td>\n",
       "      <td>196</td>\n",
       "      <td>1</td>\n",
       "      <td>0</td>\n",
       "      <td>Soda</td>\n",
       "      <td>77</td>\n",
       "      <td>7</td>\n",
       "      <td>9.0</td>\n",
       "      <td>Regularly busy</td>\n",
       "      <td>Regularly busy</td>\n",
       "      <td>Average Orders</td>\n",
       "      <td>10</td>\n",
       "      <td>New customer</td>\n",
       "      <td>6.367797</td>\n",
       "      <td>Low Spender</td>\n",
       "      <td>20.5</td>\n",
       "      <td>Non-frequent customer</td>\n",
       "      <td>Female</td>\n",
       "      <td>Alabama</td>\n",
       "      <td>31</td>\n",
       "      <td>2/17/2019</td>\n",
       "      <td>3</td>\n",
       "      <td>married</td>\n",
       "      <td>40423</td>\n",
       "      <td>South</td>\n",
       "      <td>high activity customer</td>\n",
       "      <td>low income</td>\n",
       "      <td>adult</td>\n",
       "      <td>Yes</td>\n",
       "      <td>beverages</td>\n",
       "    </tr>\n",
       "    <tr>\n",
       "      <th>1</th>\n",
       "      <td>2539329</td>\n",
       "      <td>1</td>\n",
       "      <td>1</td>\n",
       "      <td>2</td>\n",
       "      <td>8</td>\n",
       "      <td>NaN</td>\n",
       "      <td>14084</td>\n",
       "      <td>2</td>\n",
       "      <td>0</td>\n",
       "      <td>Organic Unsweetened Vanilla Almond Milk</td>\n",
       "      <td>91</td>\n",
       "      <td>16</td>\n",
       "      <td>12.5</td>\n",
       "      <td>Regularly busy</td>\n",
       "      <td>Regularly busy</td>\n",
       "      <td>Average Orders</td>\n",
       "      <td>10</td>\n",
       "      <td>New customer</td>\n",
       "      <td>6.367797</td>\n",
       "      <td>Low Spender</td>\n",
       "      <td>20.5</td>\n",
       "      <td>Non-frequent customer</td>\n",
       "      <td>Female</td>\n",
       "      <td>Alabama</td>\n",
       "      <td>31</td>\n",
       "      <td>2/17/2019</td>\n",
       "      <td>3</td>\n",
       "      <td>married</td>\n",
       "      <td>40423</td>\n",
       "      <td>South</td>\n",
       "      <td>high activity customer</td>\n",
       "      <td>low income</td>\n",
       "      <td>adult</td>\n",
       "      <td>Yes</td>\n",
       "      <td>dairy eggs</td>\n",
       "    </tr>\n",
       "    <tr>\n",
       "      <th>2</th>\n",
       "      <td>2539329</td>\n",
       "      <td>1</td>\n",
       "      <td>1</td>\n",
       "      <td>2</td>\n",
       "      <td>8</td>\n",
       "      <td>NaN</td>\n",
       "      <td>12427</td>\n",
       "      <td>3</td>\n",
       "      <td>0</td>\n",
       "      <td>Original Beef Jerky</td>\n",
       "      <td>23</td>\n",
       "      <td>19</td>\n",
       "      <td>4.4</td>\n",
       "      <td>Regularly busy</td>\n",
       "      <td>Regularly busy</td>\n",
       "      <td>Average Orders</td>\n",
       "      <td>10</td>\n",
       "      <td>New customer</td>\n",
       "      <td>6.367797</td>\n",
       "      <td>Low Spender</td>\n",
       "      <td>20.5</td>\n",
       "      <td>Non-frequent customer</td>\n",
       "      <td>Female</td>\n",
       "      <td>Alabama</td>\n",
       "      <td>31</td>\n",
       "      <td>2/17/2019</td>\n",
       "      <td>3</td>\n",
       "      <td>married</td>\n",
       "      <td>40423</td>\n",
       "      <td>South</td>\n",
       "      <td>high activity customer</td>\n",
       "      <td>low income</td>\n",
       "      <td>adult</td>\n",
       "      <td>Yes</td>\n",
       "      <td>snacks</td>\n",
       "    </tr>\n",
       "    <tr>\n",
       "      <th>3</th>\n",
       "      <td>2539329</td>\n",
       "      <td>1</td>\n",
       "      <td>1</td>\n",
       "      <td>2</td>\n",
       "      <td>8</td>\n",
       "      <td>NaN</td>\n",
       "      <td>26088</td>\n",
       "      <td>4</td>\n",
       "      <td>0</td>\n",
       "      <td>Aged White Cheddar Popcorn</td>\n",
       "      <td>23</td>\n",
       "      <td>19</td>\n",
       "      <td>4.7</td>\n",
       "      <td>Regularly busy</td>\n",
       "      <td>Regularly busy</td>\n",
       "      <td>Average Orders</td>\n",
       "      <td>10</td>\n",
       "      <td>New customer</td>\n",
       "      <td>6.367797</td>\n",
       "      <td>Low Spender</td>\n",
       "      <td>20.5</td>\n",
       "      <td>Non-frequent customer</td>\n",
       "      <td>Female</td>\n",
       "      <td>Alabama</td>\n",
       "      <td>31</td>\n",
       "      <td>2/17/2019</td>\n",
       "      <td>3</td>\n",
       "      <td>married</td>\n",
       "      <td>40423</td>\n",
       "      <td>South</td>\n",
       "      <td>high activity customer</td>\n",
       "      <td>low income</td>\n",
       "      <td>adult</td>\n",
       "      <td>Yes</td>\n",
       "      <td>snacks</td>\n",
       "    </tr>\n",
       "    <tr>\n",
       "      <th>4</th>\n",
       "      <td>2539329</td>\n",
       "      <td>1</td>\n",
       "      <td>1</td>\n",
       "      <td>2</td>\n",
       "      <td>8</td>\n",
       "      <td>NaN</td>\n",
       "      <td>26405</td>\n",
       "      <td>5</td>\n",
       "      <td>0</td>\n",
       "      <td>XL Pick-A-Size Paper Towel Rolls</td>\n",
       "      <td>54</td>\n",
       "      <td>17</td>\n",
       "      <td>1.0</td>\n",
       "      <td>Regularly busy</td>\n",
       "      <td>Regularly busy</td>\n",
       "      <td>Average Orders</td>\n",
       "      <td>10</td>\n",
       "      <td>New customer</td>\n",
       "      <td>6.367797</td>\n",
       "      <td>Low Spender</td>\n",
       "      <td>20.5</td>\n",
       "      <td>Non-frequent customer</td>\n",
       "      <td>Female</td>\n",
       "      <td>Alabama</td>\n",
       "      <td>31</td>\n",
       "      <td>2/17/2019</td>\n",
       "      <td>3</td>\n",
       "      <td>married</td>\n",
       "      <td>40423</td>\n",
       "      <td>South</td>\n",
       "      <td>high activity customer</td>\n",
       "      <td>low income</td>\n",
       "      <td>adult</td>\n",
       "      <td>Yes</td>\n",
       "      <td>household</td>\n",
       "    </tr>\n",
       "  </tbody>\n",
       "</table>\n",
       "</div>"
      ],
      "text/plain": [
       "   order_id  user_id  order_number  orders_day_of_the_week  order_hour_of_day  \\\n",
       "0   2539329        1             1                       2                  8   \n",
       "1   2539329        1             1                       2                  8   \n",
       "2   2539329        1             1                       2                  8   \n",
       "3   2539329        1             1                       2                  8   \n",
       "4   2539329        1             1                       2                  8   \n",
       "\n",
       "   days_since_prior_order  product_id  add_to_cart_order  reordered  \\\n",
       "0                     NaN         196                  1          0   \n",
       "1                     NaN       14084                  2          0   \n",
       "2                     NaN       12427                  3          0   \n",
       "3                     NaN       26088                  4          0   \n",
       "4                     NaN       26405                  5          0   \n",
       "\n",
       "                              product_name  aisle_id  department_id  prices  \\\n",
       "0                                     Soda        77              7     9.0   \n",
       "1  Organic Unsweetened Vanilla Almond Milk        91             16    12.5   \n",
       "2                      Original Beef Jerky        23             19     4.4   \n",
       "3               Aged White Cheddar Popcorn        23             19     4.7   \n",
       "4         XL Pick-A-Size Paper Towel Rolls        54             17     1.0   \n",
       "\n",
       "      busiest_day    busiest_days busiest_period_of_day  max_order  \\\n",
       "0  Regularly busy  Regularly busy        Average Orders         10   \n",
       "1  Regularly busy  Regularly busy        Average Orders         10   \n",
       "2  Regularly busy  Regularly busy        Average Orders         10   \n",
       "3  Regularly busy  Regularly busy        Average Orders         10   \n",
       "4  Regularly busy  Regularly busy        Average Orders         10   \n",
       "\n",
       "   loyalty_flag  average_price spender_type  median_days_since_order  \\\n",
       "0  New customer       6.367797  Low Spender                     20.5   \n",
       "1  New customer       6.367797  Low Spender                     20.5   \n",
       "2  New customer       6.367797  Low Spender                     20.5   \n",
       "3  New customer       6.367797  Low Spender                     20.5   \n",
       "4  New customer       6.367797  Low Spender                     20.5   \n",
       "\n",
       "      customer_frequency  Gender    State  Age Date Joined  \\\n",
       "0  Non-frequent customer  Female  Alabama   31   2/17/2019   \n",
       "1  Non-frequent customer  Female  Alabama   31   2/17/2019   \n",
       "2  Non-frequent customer  Female  Alabama   31   2/17/2019   \n",
       "3  Non-frequent customer  Female  Alabama   31   2/17/2019   \n",
       "4  Non-frequent customer  Female  Alabama   31   2/17/2019   \n",
       "\n",
       "   Number of Dependants Family Status  Income Region           activity_flag  \\\n",
       "0                     3       married   40423  South  high activity customer   \n",
       "1                     3       married   40423  South  high activity customer   \n",
       "2                     3       married   40423  South  high activity customer   \n",
       "3                     3       married   40423  South  high activity customer   \n",
       "4                     3       married   40423  South  high activity customer   \n",
       "\n",
       "  Income Group Age Group Dependant Status  department  \n",
       "0   low income     adult              Yes   beverages  \n",
       "1   low income     adult              Yes  dairy eggs  \n",
       "2   low income     adult              Yes      snacks  \n",
       "3   low income     adult              Yes      snacks  \n",
       "4   low income     adult              Yes   household  "
      ]
     },
     "execution_count": 13,
     "metadata": {},
     "output_type": "execute_result"
    }
   ],
   "source": [
    "df.head()"
   ]
  },
  {
   "cell_type": "markdown",
   "id": "e90dedac-5a36-4aef-90aa-44dfdbb70842",
   "metadata": {},
   "source": [
    "# Key Question Exploration\n",
    "Question 1: What’s the distribution among users in regards to their brand loyalty (i.e., how\n",
    "often do they return to Instacart)?\n"
   ]
  },
  {
   "cell_type": "code",
   "execution_count": 15,
   "id": "0b873fa5-cd4b-4f61-962a-10be471a95ae",
   "metadata": {},
   "outputs": [],
   "source": [
    "age_daysince_cross = pd.crosstab(df['Age Group'],df['days_since_prior_order'].mean(), dropna=False)"
   ]
  },
  {
   "cell_type": "code",
   "execution_count": 16,
   "id": "e4b8babf-5836-4f30-800d-271d4cfef9e8",
   "metadata": {},
   "outputs": [
    {
     "data": {
      "text/html": [
       "<div>\n",
       "<style scoped>\n",
       "    .dataframe tbody tr th:only-of-type {\n",
       "        vertical-align: middle;\n",
       "    }\n",
       "\n",
       "    .dataframe tbody tr th {\n",
       "        vertical-align: top;\n",
       "    }\n",
       "\n",
       "    .dataframe thead tr th {\n",
       "        text-align: left;\n",
       "    }\n",
       "\n",
       "    .dataframe thead tr:last-of-type th {\n",
       "        text-align: right;\n",
       "    }\n",
       "</style>\n",
       "<table border=\"1\" class=\"dataframe\">\n",
       "  <thead>\n",
       "    <tr>\n",
       "      <th></th>\n",
       "      <th>days_since_prior_order</th>\n",
       "    </tr>\n",
       "    <tr>\n",
       "      <th></th>\n",
       "      <th>mean</th>\n",
       "    </tr>\n",
       "    <tr>\n",
       "      <th>Age Group</th>\n",
       "      <th></th>\n",
       "    </tr>\n",
       "  </thead>\n",
       "  <tbody>\n",
       "    <tr>\n",
       "      <th>adult</th>\n",
       "      <td>10.779940</td>\n",
       "    </tr>\n",
       "    <tr>\n",
       "      <th>middle aged</th>\n",
       "      <td>10.826162</td>\n",
       "    </tr>\n",
       "    <tr>\n",
       "      <th>senior</th>\n",
       "      <td>10.791879</td>\n",
       "    </tr>\n",
       "    <tr>\n",
       "      <th>young adult</th>\n",
       "      <td>10.838774</td>\n",
       "    </tr>\n",
       "  </tbody>\n",
       "</table>\n",
       "</div>"
      ],
      "text/plain": [
       "            days_since_prior_order\n",
       "                              mean\n",
       "Age Group                         \n",
       "adult                    10.779940\n",
       "middle aged              10.826162\n",
       "senior                   10.791879\n",
       "young adult              10.838774"
      ]
     },
     "execution_count": 16,
     "metadata": {},
     "output_type": "execute_result"
    }
   ],
   "source": [
    "df.groupby('Age Group').agg({'days_since_prior_order': ['mean']})"
   ]
  },
  {
   "cell_type": "code",
   "execution_count": 17,
   "id": "1d81d05c-d5a5-414c-8fb6-f686f8b83684",
   "metadata": {},
   "outputs": [
    {
     "data": {
      "text/html": [
       "<div>\n",
       "<style scoped>\n",
       "    .dataframe tbody tr th:only-of-type {\n",
       "        vertical-align: middle;\n",
       "    }\n",
       "\n",
       "    .dataframe tbody tr th {\n",
       "        vertical-align: top;\n",
       "    }\n",
       "\n",
       "    .dataframe thead tr th {\n",
       "        text-align: left;\n",
       "    }\n",
       "\n",
       "    .dataframe thead tr:last-of-type th {\n",
       "        text-align: right;\n",
       "    }\n",
       "</style>\n",
       "<table border=\"1\" class=\"dataframe\">\n",
       "  <thead>\n",
       "    <tr>\n",
       "      <th></th>\n",
       "      <th>days_since_prior_order</th>\n",
       "    </tr>\n",
       "    <tr>\n",
       "      <th></th>\n",
       "      <th>mean</th>\n",
       "    </tr>\n",
       "    <tr>\n",
       "      <th>Family Status</th>\n",
       "      <th></th>\n",
       "    </tr>\n",
       "  </thead>\n",
       "  <tbody>\n",
       "    <tr>\n",
       "      <th>divorced/widowed</th>\n",
       "      <td>10.750328</td>\n",
       "    </tr>\n",
       "    <tr>\n",
       "      <th>living with parents and siblings</th>\n",
       "      <td>10.750995</td>\n",
       "    </tr>\n",
       "    <tr>\n",
       "      <th>married</th>\n",
       "      <td>10.820875</td>\n",
       "    </tr>\n",
       "    <tr>\n",
       "      <th>single</th>\n",
       "      <td>10.813571</td>\n",
       "    </tr>\n",
       "  </tbody>\n",
       "</table>\n",
       "</div>"
      ],
      "text/plain": [
       "                                 days_since_prior_order\n",
       "                                                   mean\n",
       "Family Status                                          \n",
       "divorced/widowed                              10.750328\n",
       "living with parents and siblings              10.750995\n",
       "married                                       10.820875\n",
       "single                                        10.813571"
      ]
     },
     "execution_count": 17,
     "metadata": {},
     "output_type": "execute_result"
    }
   ],
   "source": [
    "df.groupby('Family Status').agg({'days_since_prior_order': ['mean']})"
   ]
  },
  {
   "cell_type": "code",
   "execution_count": 18,
   "id": "5fe7ed0a-747e-4e86-8207-aed18d811954",
   "metadata": {},
   "outputs": [
    {
     "data": {
      "text/html": [
       "<div>\n",
       "<style scoped>\n",
       "    .dataframe tbody tr th:only-of-type {\n",
       "        vertical-align: middle;\n",
       "    }\n",
       "\n",
       "    .dataframe tbody tr th {\n",
       "        vertical-align: top;\n",
       "    }\n",
       "\n",
       "    .dataframe thead tr th {\n",
       "        text-align: left;\n",
       "    }\n",
       "\n",
       "    .dataframe thead tr:last-of-type th {\n",
       "        text-align: right;\n",
       "    }\n",
       "</style>\n",
       "<table border=\"1\" class=\"dataframe\">\n",
       "  <thead>\n",
       "    <tr>\n",
       "      <th></th>\n",
       "      <th>days_since_prior_order</th>\n",
       "    </tr>\n",
       "    <tr>\n",
       "      <th></th>\n",
       "      <th>mean</th>\n",
       "    </tr>\n",
       "    <tr>\n",
       "      <th>Dependant Status</th>\n",
       "      <th></th>\n",
       "    </tr>\n",
       "  </thead>\n",
       "  <tbody>\n",
       "    <tr>\n",
       "      <th>No</th>\n",
       "      <td>10.791951</td>\n",
       "    </tr>\n",
       "    <tr>\n",
       "      <th>Yes</th>\n",
       "      <td>10.816416</td>\n",
       "    </tr>\n",
       "  </tbody>\n",
       "</table>\n",
       "</div>"
      ],
      "text/plain": [
       "                 days_since_prior_order\n",
       "                                   mean\n",
       "Dependant Status                       \n",
       "No                            10.791951\n",
       "Yes                           10.816416"
      ]
     },
     "execution_count": 18,
     "metadata": {},
     "output_type": "execute_result"
    }
   ],
   "source": [
    "df.groupby('Dependant Status').agg({'days_since_prior_order': ['mean']})"
   ]
  },
  {
   "cell_type": "code",
   "execution_count": null,
   "id": "957d0b86-a75f-4a44-8461-c1d47624bb11",
   "metadata": {},
   "outputs": [],
   "source": []
  },
  {
   "cell_type": "code",
   "execution_count": 19,
   "id": "192dbcde-4465-4a70-8e60-fc4db0dc0b80",
   "metadata": {},
   "outputs": [],
   "source": [
    "age_fam_cross = pd.crosstab(df['Age Group'],df['Family Status'], dropna=False)"
   ]
  },
  {
   "cell_type": "code",
   "execution_count": 20,
   "id": "86944e67-91f4-4333-b11e-4cbdf142c4f6",
   "metadata": {},
   "outputs": [
    {
     "data": {
      "text/html": [
       "<div>\n",
       "<style scoped>\n",
       "    .dataframe tbody tr th:only-of-type {\n",
       "        vertical-align: middle;\n",
       "    }\n",
       "\n",
       "    .dataframe tbody tr th {\n",
       "        vertical-align: top;\n",
       "    }\n",
       "\n",
       "    .dataframe thead th {\n",
       "        text-align: right;\n",
       "    }\n",
       "</style>\n",
       "<table border=\"1\" class=\"dataframe\">\n",
       "  <thead>\n",
       "    <tr style=\"text-align: right;\">\n",
       "      <th>Family Status</th>\n",
       "      <th>divorced/widowed</th>\n",
       "      <th>living with parents and siblings</th>\n",
       "      <th>married</th>\n",
       "      <th>single</th>\n",
       "    </tr>\n",
       "    <tr>\n",
       "      <th>Age Group</th>\n",
       "      <th></th>\n",
       "      <th></th>\n",
       "      <th></th>\n",
       "      <th></th>\n",
       "    </tr>\n",
       "  </thead>\n",
       "  <tbody>\n",
       "    <tr>\n",
       "      <th>adult</th>\n",
       "      <td>0</td>\n",
       "      <td>0</td>\n",
       "      <td>3637306</td>\n",
       "      <td>1206887</td>\n",
       "    </tr>\n",
       "    <tr>\n",
       "      <th>middle aged</th>\n",
       "      <td>112170</td>\n",
       "      <td>0</td>\n",
       "      <td>7277203</td>\n",
       "      <td>2314151</td>\n",
       "    </tr>\n",
       "    <tr>\n",
       "      <th>senior</th>\n",
       "      <td>2533101</td>\n",
       "      <td>0</td>\n",
       "      <td>7579506</td>\n",
       "      <td>0</td>\n",
       "    </tr>\n",
       "    <tr>\n",
       "      <th>young adult</th>\n",
       "      <td>0</td>\n",
       "      <td>1481172</td>\n",
       "      <td>3249696</td>\n",
       "      <td>1573372</td>\n",
       "    </tr>\n",
       "  </tbody>\n",
       "</table>\n",
       "</div>"
      ],
      "text/plain": [
       "Family Status  divorced/widowed  living with parents and siblings  married  \\\n",
       "Age Group                                                                    \n",
       "adult                         0                                 0  3637306   \n",
       "middle aged              112170                                 0  7277203   \n",
       "senior                  2533101                                 0  7579506   \n",
       "young adult                   0                           1481172  3249696   \n",
       "\n",
       "Family Status   single  \n",
       "Age Group               \n",
       "adult          1206887  \n",
       "middle aged    2314151  \n",
       "senior               0  \n",
       "young adult    1573372  "
      ]
     },
     "execution_count": 20,
     "metadata": {},
     "output_type": "execute_result"
    }
   ],
   "source": [
    "age_fam_cross"
   ]
  },
  {
   "cell_type": "code",
   "execution_count": 21,
   "id": "4519adf4-7833-4e89-9b8e-a8ee1ef01d9e",
   "metadata": {},
   "outputs": [
    {
     "data": {
      "text/plain": [
       "<Axes: xlabel='Age Group'>"
      ]
     },
     "execution_count": 21,
     "metadata": {},
     "output_type": "execute_result"
    },
    {
     "data": {
      "image/png": "[encoded data removed]",
      "text/plain": [
       "<Figure size 640x480 with 1 Axes>"
      ]
     },
     "metadata": {},
     "output_type": "display_data"
    }
   ],
   "source": [
    "age_fam_cross.plot.bar()"
   ]
  },
  {
   "cell_type": "code",
   "execution_count": 22,
   "id": "f91fc92f-3fb8-4ed8-ae63-5959efdc7845",
   "metadata": {},
   "outputs": [],
   "source": [
    "age_income_cross = pd.crosstab(df['Age Group'],df['Income Group'], dropna=False)"
   ]
  },
  {
   "cell_type": "code",
   "execution_count": 23,
   "id": "02a7d487-c907-4c87-85dd-56c24b70147b",
   "metadata": {},
   "outputs": [
    {
     "data": {
      "text/plain": [
       "<Axes: xlabel='Age Group'>"
      ]
     },
     "execution_count": 23,
     "metadata": {},
     "output_type": "execute_result"
    },
    {
     "data": {
      "image/png": "[encoded data removed]",
      "text/plain": [
       "<Figure size 640x480 with 1 Axes>"
      ]
     },
     "metadata": {},
     "output_type": "display_data"
    }
   ],
   "source": [
    "age_income_cross.plot.bar()"
   ]
  },
  {
   "cell_type": "code",
   "execution_count": 24,
   "id": "dc951c93-c90e-4ea1-8787-56234339cb70",
   "metadata": {},
   "outputs": [],
   "source": [
    "pd.set_option('display.max_rows', None)"
   ]
  },
  {
   "cell_type": "markdown",
   "id": "dc2e59c2-bd4f-43da-86a9-d2b7874521e6",
   "metadata": {},
   "source": [
    "# Are there particular times of day when people spend the most money?"
   ]
  },
  {
   "cell_type": "code",
   "execution_count": 26,
   "id": "a1bf7b73-f077-4a3f-98c9-b0fdb7377084",
   "metadata": {},
   "outputs": [],
   "source": [
    "#creating a random sample from out df -- create random seed for every value in the df then test if the seed is above or below .7 for a 70/30 split of data \n",
    "np.random.seed(4)\n",
    "dev = np.random.rand(len(df)) <= 0.7"
   ]
  },
  {
   "cell_type": "code",
   "execution_count": 27,
   "id": "839cdc6c-57c4-4363-9cdb-83f91e3452a1",
   "metadata": {},
   "outputs": [],
   "source": [
    "#actually splitting the data \n",
    "big = df[dev]\n",
    "small = df[~dev]"
   ]
  },
  {
   "cell_type": "code",
   "execution_count": 28,
   "id": "921ec03f-5fbf-4da0-86cd-5a27c269a5ab",
   "metadata": {},
   "outputs": [],
   "source": [
    "df2 = small[['order_hour_of_day','prices']]"
   ]
  },
  {
   "cell_type": "code",
   "execution_count": 29,
   "id": "b188823b-4929-47e3-994f-ba67cf5b2398",
   "metadata": {},
   "outputs": [],
   "source": [
    "df_sum = df2.groupby('order_hour_of_day')['prices'].sum().reset_index()"
   ]
  },
  {
   "cell_type": "code",
   "execution_count": 30,
   "id": "721d9ff8-757b-45c1-a684-10029bc216ce",
   "metadata": {},
   "outputs": [
    {
     "data": {
      "image/png": "[encoded data removed]",
      "text/plain": [
       "<Figure size 640x480 with 1 Axes>"
      ]
     },
     "metadata": {},
     "output_type": "display_data"
    }
   ],
   "source": [
    "\n",
    "price_hod_line = sns.lineplot(data = df2, x = 'order_hour_of_day',y = 'prices')"
   ]
  },
  {
   "cell_type": "code",
   "execution_count": 31,
   "id": "e13050e4-b7b5-4f8d-86af-045cb060adec",
   "metadata": {},
   "outputs": [],
   "source": [
    "price_hod_line.figure.savefig(os.path.join(path, '04 Analysis','Visualizations', 'hod_prices_line2.png'))"
   ]
  },
  {
   "cell_type": "code",
   "execution_count": 32,
   "id": "891f5305-4fb6-4560-82d7-448c520fd559",
   "metadata": {},
   "outputs": [
    {
     "data": {
      "image/png": "[encoded data removed]",
      "text/plain": [
       "<Figure size 640x480 with 1 Axes>"
      ]
     },
     "metadata": {},
     "output_type": "display_data"
    }
   ],
   "source": [
    "price_hod_line2 = sns.lineplot(data = df2, x = 'order_hour_of_day',y = df_sum['prices'])"
   ]
  },
  {
   "cell_type": "code",
   "execution_count": 33,
   "id": "ad1623db-8794-4f52-ba92-68229f48133c",
   "metadata": {},
   "outputs": [],
   "source": [
    "price_hod_line2.figure.savefig(os.path.join(path, '04 Analysis','Visualizations', 'hod_prices_line.png'))"
   ]
  },
  {
   "cell_type": "code",
   "execution_count": 34,
   "id": "57289a66-0484-4564-bec1-5024fd57a111",
   "metadata": {},
   "outputs": [
    {
     "data": {
      "text/plain": [
       "department\n",
       "produce            9079273\n",
       "dairy eggs         5177182\n",
       "snacks             2766406\n",
       "beverages          2571901\n",
       "frozen             2121731\n",
       "pantry             1782705\n",
       "bakery             1120828\n",
       "canned goods       1012074\n",
       "deli               1003834\n",
       "dry goods pasta     822136\n",
       "household           699857\n",
       "meat seafood        674781\n",
       "breakfast           670850\n",
       "personal care       424306\n",
       "babies              410392\n",
       "international       255991\n",
       "alcohol             144627\n",
       "pets                 93060\n",
       "missing              64768\n",
       "other                34411\n",
       "bulk                 33451\n",
       "Name: count, dtype: int64"
      ]
     },
     "execution_count": 34,
     "metadata": {},
     "output_type": "execute_result"
    }
   ],
   "source": [
    "df['department'].value_counts()"
   ]
  },
  {
   "cell_type": "markdown",
   "id": "8603cc49-e4a8-4b1a-b87b-b201e5183b6a",
   "metadata": {},
   "source": [
    "# Recreating what deems a loyal customer for the sake of accuracy "
   ]
  },
  {
   "cell_type": "code",
   "execution_count": 44,
   "id": "e988ed73-b30b-42ea-b3f0-0cc12be5fca6",
   "metadata": {},
   "outputs": [],
   "source": [
    "#Renaming loyalty_flag for the sake of no confusion"
   ]
  },
  {
   "cell_type": "code",
   "execution_count": 45,
   "id": "227f54f9-48c1-43c8-b1e1-8f581652a6bb",
   "metadata": {},
   "outputs": [
    {
     "data": {
      "text/html": [
       "<div>\n",
       "<style scoped>\n",
       "    .dataframe tbody tr th:only-of-type {\n",
       "        vertical-align: middle;\n",
       "    }\n",
       "\n",
       "    .dataframe tbody tr th {\n",
       "        vertical-align: top;\n",
       "    }\n",
       "\n",
       "    .dataframe thead th {\n",
       "        text-align: right;\n",
       "    }\n",
       "</style>\n",
       "<table border=\"1\" class=\"dataframe\">\n",
       "  <thead>\n",
       "    <tr style=\"text-align: right;\">\n",
       "      <th></th>\n",
       "      <th>order_id</th>\n",
       "      <th>user_id</th>\n",
       "      <th>order_number</th>\n",
       "      <th>orders_day_of_the_week</th>\n",
       "      <th>order_hour_of_day</th>\n",
       "      <th>days_since_prior_order</th>\n",
       "      <th>product_id</th>\n",
       "      <th>add_to_cart_order</th>\n",
       "      <th>reordered</th>\n",
       "      <th>product_name</th>\n",
       "      <th>aisle_id</th>\n",
       "      <th>department_id</th>\n",
       "      <th>prices</th>\n",
       "      <th>busiest_day</th>\n",
       "      <th>busiest_days</th>\n",
       "      <th>busiest_period_of_day</th>\n",
       "      <th>max_order</th>\n",
       "      <th>loyalty_flag</th>\n",
       "      <th>average_price</th>\n",
       "      <th>spender_type</th>\n",
       "      <th>median_days_since_order</th>\n",
       "      <th>customer_frequency</th>\n",
       "      <th>Gender</th>\n",
       "      <th>State</th>\n",
       "      <th>Age</th>\n",
       "      <th>Date Joined</th>\n",
       "      <th>Number of Dependants</th>\n",
       "      <th>Family Status</th>\n",
       "      <th>Income</th>\n",
       "      <th>Region</th>\n",
       "      <th>activity_flag</th>\n",
       "      <th>Income Group</th>\n",
       "      <th>Age Group</th>\n",
       "      <th>Dependant Status</th>\n",
       "      <th>department</th>\n",
       "    </tr>\n",
       "  </thead>\n",
       "  <tbody>\n",
       "    <tr>\n",
       "      <th>0</th>\n",
       "      <td>2539329</td>\n",
       "      <td>1</td>\n",
       "      <td>1</td>\n",
       "      <td>2</td>\n",
       "      <td>8</td>\n",
       "      <td>NaN</td>\n",
       "      <td>196</td>\n",
       "      <td>1</td>\n",
       "      <td>0</td>\n",
       "      <td>Soda</td>\n",
       "      <td>77</td>\n",
       "      <td>7</td>\n",
       "      <td>9.0</td>\n",
       "      <td>Regularly busy</td>\n",
       "      <td>Regularly busy</td>\n",
       "      <td>Average Orders</td>\n",
       "      <td>10</td>\n",
       "      <td>New customer</td>\n",
       "      <td>6.367797</td>\n",
       "      <td>Low Spender</td>\n",
       "      <td>20.5</td>\n",
       "      <td>Non-frequent customer</td>\n",
       "      <td>Female</td>\n",
       "      <td>Alabama</td>\n",
       "      <td>31</td>\n",
       "      <td>2/17/2019</td>\n",
       "      <td>3</td>\n",
       "      <td>married</td>\n",
       "      <td>40423</td>\n",
       "      <td>South</td>\n",
       "      <td>high activity customer</td>\n",
       "      <td>low income</td>\n",
       "      <td>adult</td>\n",
       "      <td>Yes</td>\n",
       "      <td>beverages</td>\n",
       "    </tr>\n",
       "    <tr>\n",
       "      <th>1</th>\n",
       "      <td>2539329</td>\n",
       "      <td>1</td>\n",
       "      <td>1</td>\n",
       "      <td>2</td>\n",
       "      <td>8</td>\n",
       "      <td>NaN</td>\n",
       "      <td>14084</td>\n",
       "      <td>2</td>\n",
       "      <td>0</td>\n",
       "      <td>Organic Unsweetened Vanilla Almond Milk</td>\n",
       "      <td>91</td>\n",
       "      <td>16</td>\n",
       "      <td>12.5</td>\n",
       "      <td>Regularly busy</td>\n",
       "      <td>Regularly busy</td>\n",
       "      <td>Average Orders</td>\n",
       "      <td>10</td>\n",
       "      <td>New customer</td>\n",
       "      <td>6.367797</td>\n",
       "      <td>Low Spender</td>\n",
       "      <td>20.5</td>\n",
       "      <td>Non-frequent customer</td>\n",
       "      <td>Female</td>\n",
       "      <td>Alabama</td>\n",
       "      <td>31</td>\n",
       "      <td>2/17/2019</td>\n",
       "      <td>3</td>\n",
       "      <td>married</td>\n",
       "      <td>40423</td>\n",
       "      <td>South</td>\n",
       "      <td>high activity customer</td>\n",
       "      <td>low income</td>\n",
       "      <td>adult</td>\n",
       "      <td>Yes</td>\n",
       "      <td>dairy eggs</td>\n",
       "    </tr>\n",
       "    <tr>\n",
       "      <th>2</th>\n",
       "      <td>2539329</td>\n",
       "      <td>1</td>\n",
       "      <td>1</td>\n",
       "      <td>2</td>\n",
       "      <td>8</td>\n",
       "      <td>NaN</td>\n",
       "      <td>12427</td>\n",
       "      <td>3</td>\n",
       "      <td>0</td>\n",
       "      <td>Original Beef Jerky</td>\n",
       "      <td>23</td>\n",
       "      <td>19</td>\n",
       "      <td>4.4</td>\n",
       "      <td>Regularly busy</td>\n",
       "      <td>Regularly busy</td>\n",
       "      <td>Average Orders</td>\n",
       "      <td>10</td>\n",
       "      <td>New customer</td>\n",
       "      <td>6.367797</td>\n",
       "      <td>Low Spender</td>\n",
       "      <td>20.5</td>\n",
       "      <td>Non-frequent customer</td>\n",
       "      <td>Female</td>\n",
       "      <td>Alabama</td>\n",
       "      <td>31</td>\n",
       "      <td>2/17/2019</td>\n",
       "      <td>3</td>\n",
       "      <td>married</td>\n",
       "      <td>40423</td>\n",
       "      <td>South</td>\n",
       "      <td>high activity customer</td>\n",
       "      <td>low income</td>\n",
       "      <td>adult</td>\n",
       "      <td>Yes</td>\n",
       "      <td>snacks</td>\n",
       "    </tr>\n",
       "    <tr>\n",
       "      <th>3</th>\n",
       "      <td>2539329</td>\n",
       "      <td>1</td>\n",
       "      <td>1</td>\n",
       "      <td>2</td>\n",
       "      <td>8</td>\n",
       "      <td>NaN</td>\n",
       "      <td>26088</td>\n",
       "      <td>4</td>\n",
       "      <td>0</td>\n",
       "      <td>Aged White Cheddar Popcorn</td>\n",
       "      <td>23</td>\n",
       "      <td>19</td>\n",
       "      <td>4.7</td>\n",
       "      <td>Regularly busy</td>\n",
       "      <td>Regularly busy</td>\n",
       "      <td>Average Orders</td>\n",
       "      <td>10</td>\n",
       "      <td>New customer</td>\n",
       "      <td>6.367797</td>\n",
       "      <td>Low Spender</td>\n",
       "      <td>20.5</td>\n",
       "      <td>Non-frequent customer</td>\n",
       "      <td>Female</td>\n",
       "      <td>Alabama</td>\n",
       "      <td>31</td>\n",
       "      <td>2/17/2019</td>\n",
       "      <td>3</td>\n",
       "      <td>married</td>\n",
       "      <td>40423</td>\n",
       "      <td>South</td>\n",
       "      <td>high activity customer</td>\n",
       "      <td>low income</td>\n",
       "      <td>adult</td>\n",
       "      <td>Yes</td>\n",
       "      <td>snacks</td>\n",
       "    </tr>\n",
       "    <tr>\n",
       "      <th>4</th>\n",
       "      <td>2539329</td>\n",
       "      <td>1</td>\n",
       "      <td>1</td>\n",
       "      <td>2</td>\n",
       "      <td>8</td>\n",
       "      <td>NaN</td>\n",
       "      <td>26405</td>\n",
       "      <td>5</td>\n",
       "      <td>0</td>\n",
       "      <td>XL Pick-A-Size Paper Towel Rolls</td>\n",
       "      <td>54</td>\n",
       "      <td>17</td>\n",
       "      <td>1.0</td>\n",
       "      <td>Regularly busy</td>\n",
       "      <td>Regularly busy</td>\n",
       "      <td>Average Orders</td>\n",
       "      <td>10</td>\n",
       "      <td>New customer</td>\n",
       "      <td>6.367797</td>\n",
       "      <td>Low Spender</td>\n",
       "      <td>20.5</td>\n",
       "      <td>Non-frequent customer</td>\n",
       "      <td>Female</td>\n",
       "      <td>Alabama</td>\n",
       "      <td>31</td>\n",
       "      <td>2/17/2019</td>\n",
       "      <td>3</td>\n",
       "      <td>married</td>\n",
       "      <td>40423</td>\n",
       "      <td>South</td>\n",
       "      <td>high activity customer</td>\n",
       "      <td>low income</td>\n",
       "      <td>adult</td>\n",
       "      <td>Yes</td>\n",
       "      <td>household</td>\n",
       "    </tr>\n",
       "  </tbody>\n",
       "</table>\n",
       "</div>"
      ],
      "text/plain": [
       "   order_id  user_id  order_number  orders_day_of_the_week  order_hour_of_day  \\\n",
       "0   2539329        1             1                       2                  8   \n",
       "1   2539329        1             1                       2                  8   \n",
       "2   2539329        1             1                       2                  8   \n",
       "3   2539329        1             1                       2                  8   \n",
       "4   2539329        1             1                       2                  8   \n",
       "\n",
       "   days_since_prior_order  product_id  add_to_cart_order  reordered  \\\n",
       "0                     NaN         196                  1          0   \n",
       "1                     NaN       14084                  2          0   \n",
       "2                     NaN       12427                  3          0   \n",
       "3                     NaN       26088                  4          0   \n",
       "4                     NaN       26405                  5          0   \n",
       "\n",
       "                              product_name  aisle_id  department_id  prices  \\\n",
       "0                                     Soda        77              7     9.0   \n",
       "1  Organic Unsweetened Vanilla Almond Milk        91             16    12.5   \n",
       "2                      Original Beef Jerky        23             19     4.4   \n",
       "3               Aged White Cheddar Popcorn        23             19     4.7   \n",
       "4         XL Pick-A-Size Paper Towel Rolls        54             17     1.0   \n",
       "\n",
       "      busiest_day    busiest_days busiest_period_of_day  max_order  \\\n",
       "0  Regularly busy  Regularly busy        Average Orders         10   \n",
       "1  Regularly busy  Regularly busy        Average Orders         10   \n",
       "2  Regularly busy  Regularly busy        Average Orders         10   \n",
       "3  Regularly busy  Regularly busy        Average Orders         10   \n",
       "4  Regularly busy  Regularly busy        Average Orders         10   \n",
       "\n",
       "   loyalty_flag  average_price spender_type  median_days_since_order  \\\n",
       "0  New customer       6.367797  Low Spender                     20.5   \n",
       "1  New customer       6.367797  Low Spender                     20.5   \n",
       "2  New customer       6.367797  Low Spender                     20.5   \n",
       "3  New customer       6.367797  Low Spender                     20.5   \n",
       "4  New customer       6.367797  Low Spender                     20.5   \n",
       "\n",
       "      customer_frequency  Gender    State  Age Date Joined  \\\n",
       "0  Non-frequent customer  Female  Alabama   31   2/17/2019   \n",
       "1  Non-frequent customer  Female  Alabama   31   2/17/2019   \n",
       "2  Non-frequent customer  Female  Alabama   31   2/17/2019   \n",
       "3  Non-frequent customer  Female  Alabama   31   2/17/2019   \n",
       "4  Non-frequent customer  Female  Alabama   31   2/17/2019   \n",
       "\n",
       "   Number of Dependants Family Status  Income Region           activity_flag  \\\n",
       "0                     3       married   40423  South  high activity customer   \n",
       "1                     3       married   40423  South  high activity customer   \n",
       "2                     3       married   40423  South  high activity customer   \n",
       "3                     3       married   40423  South  high activity customer   \n",
       "4                     3       married   40423  South  high activity customer   \n",
       "\n",
       "  Income Group Age Group Dependant Status  department  \n",
       "0   low income     adult              Yes   beverages  \n",
       "1   low income     adult              Yes  dairy eggs  \n",
       "2   low income     adult              Yes      snacks  \n",
       "3   low income     adult              Yes      snacks  \n",
       "4   low income     adult              Yes   household  "
      ]
     },
     "execution_count": 45,
     "metadata": {},
     "output_type": "execute_result"
    }
   ],
   "source": [
    "df.head()"
   ]
  },
  {
   "cell_type": "code",
   "execution_count": 46,
   "id": "1edd83fe-cf4d-4fcf-8cbb-f4e15a35553e",
   "metadata": {},
   "outputs": [
    {
     "data": {
      "text/plain": [
       "spender_type\n",
       "Low Spender     30361139\n",
       "High Spender      603425\n",
       "Name: count, dtype: int64"
      ]
     },
     "execution_count": 46,
     "metadata": {},
     "output_type": "execute_result"
    }
   ],
   "source": [
    "df['spender_type'].value_counts()"
   ]
  },
  {
   "cell_type": "code",
   "execution_count": 47,
   "id": "7bef35a4-d0b5-4b81-88b6-baa509c9349f",
   "metadata": {},
   "outputs": [
    {
     "data": {
      "text/plain": [
       "loyalty_flag\n",
       "Regular customer    15876776\n",
       "Loyal customer      10284093\n",
       "New customer         4803695\n",
       "Name: count, dtype: int64"
      ]
     },
     "execution_count": 47,
     "metadata": {},
     "output_type": "execute_result"
    }
   ],
   "source": [
    "df['loyalty_flag'].value_counts()"
   ]
  },
  {
   "cell_type": "code",
   "execution_count": 48,
   "id": "5e36aa80-0c71-42fb-b93c-62478ff5accc",
   "metadata": {},
   "outputs": [
    {
     "data": {
      "text/plain": [
       "customer_frequency\n",
       "Frequent customer        19965382\n",
       "Regular customer          6865113\n",
       "Non-frequent customer     2894975\n",
       "Name: count, dtype: int64"
      ]
     },
     "execution_count": 48,
     "metadata": {},
     "output_type": "execute_result"
    }
   ],
   "source": [
    "df['customer_frequency'].value_counts()"
   ]
  },
  {
   "cell_type": "code",
   "execution_count": 49,
   "id": "30b716e2-4553-4ee6-b00c-ae5fef5242bc",
   "metadata": {},
   "outputs": [],
   "source": [
    " df = df.rename(columns={'loyalty_flag': 'customer_order_volume'})"
   ]
  },
  {
   "cell_type": "code",
   "execution_count": 50,
   "id": "eae88ec8-51ed-4520-b22f-0a35cb9929c5",
   "metadata": {},
   "outputs": [],
   "source": [
    "df['customer_order_volume'] = df['customer_order_volume'].replace('New customer','low volume')"
   ]
  },
  {
   "cell_type": "code",
   "execution_count": 51,
   "id": "63d2af2a-50f4-4801-bcd0-14740c5b6ff4",
   "metadata": {},
   "outputs": [],
   "source": [
    "df['customer_order_volume'] = df['customer_order_volume'].replace('Regular customer','average volume')"
   ]
  },
  {
   "cell_type": "code",
   "execution_count": 52,
   "id": "6efcc422-6b0d-4cc8-a6c4-23cd6e42cb43",
   "metadata": {},
   "outputs": [],
   "source": [
    "df['customer_order_volume'] = df['customer_order_volume'].replace('Loyal customer','high volume')"
   ]
  },
  {
   "cell_type": "code",
   "execution_count": 53,
   "id": "f0d9c8b6-8f74-4a60-b436-38b52ce1abe1",
   "metadata": {},
   "outputs": [
    {
     "data": {
      "text/plain": [
       "customer_order_volume\n",
       "average volume    15876776\n",
       "high volume       10284093\n",
       "low volume         4803695\n",
       "Name: count, dtype: int64"
      ]
     },
     "execution_count": 53,
     "metadata": {},
     "output_type": "execute_result"
    }
   ],
   "source": [
    "df['customer_order_volume'].value_counts()"
   ]
  },
  {
   "cell_type": "markdown",
   "id": "87a6fb6b-bd75-4fe7-a1f8-b613c7fb6a8d",
   "metadata": {},
   "source": [
    "# Creating a new loyalty flag derived from other flags "
   ]
  },
  {
   "cell_type": "code",
   "execution_count": 69,
   "id": "35d14d1b-7bdd-406c-804a-2321b7eacdbf",
   "metadata": {},
   "outputs": [],
   "source": [
    "df.loc[(df['customer_order_volume'].isin(['high volume', 'average volume'])) &\n",
    "            (df['spender_type'] == 'High Spender') &\n",
    "          (df['customer_frequency'] == 'Frequent customer'), 'loyalty_flag'] = 'loyal'"
   ]
  },
  {
   "cell_type": "code",
   "execution_count": 70,
   "id": "353c94a4-7026-4c0c-a7c8-e9def77c11ba",
   "metadata": {},
   "outputs": [
    {
     "data": {
      "text/plain": [
       "loyalty_flag\n",
       "loyal    373643\n",
       "Name: count, dtype: int64"
      ]
     },
     "execution_count": 70,
     "metadata": {},
     "output_type": "execute_result"
    }
   ],
   "source": [
    "df['loyalty_flag'].value_counts()"
   ]
  },
  {
   "cell_type": "code",
   "execution_count": 71,
   "id": "ce64284c-8c6c-432c-b241-c387e5743c7c",
   "metadata": {},
   "outputs": [],
   "source": [
    "df['loyalty_flag'] = df['loyalty_flag'].replace(np.nan,'not loyal')"
   ]
  },
  {
   "cell_type": "code",
   "execution_count": 72,
   "id": "1156fdb8-6603-4ab3-a2ca-8e0c7c95ec16",
   "metadata": {},
   "outputs": [],
   "source": [
    "loyalty_counts = df['loyalty_flag'].value_counts()"
   ]
  },
  {
   "cell_type": "code",
   "execution_count": 73,
   "id": "b1a041c7-d9c9-4513-80e6-2d7f623a17ee",
   "metadata": {},
   "outputs": [
    {
     "data": {
      "image/png": "[encoded data removed]",
      "text/plain": [
       "<Figure size 640x480 with 1 Axes>"
      ]
     },
     "metadata": {},
     "output_type": "display_data"
    }
   ],
   "source": [
    "plt.pie(loyalty_counts , labels=['Not Loyal','Loyal'], autopct='%1.1f%%')\n",
    "plt.savefig(os.path.join(path, '04 Analysis','Visualizations', 'loyalty_pie.png'))\n",
    "plt.show()"
   ]
  },
  {
   "cell_type": "markdown",
   "id": "3d16f58a-5d22-444d-b7a9-07d1195c8447",
   "metadata": {},
   "source": [
    "# Looking into the demographics of loyal customers "
   ]
  },
  {
   "cell_type": "code",
   "execution_count": 75,
   "id": "de1b4065-7308-46a5-8d59-bb51d995b00a",
   "metadata": {},
   "outputs": [],
   "source": [
    "loyal_age_cross = pd.crosstab(df['loyalty_flag'],df['Age Group'], dropna=False)"
   ]
  },
  {
   "cell_type": "code",
   "execution_count": 76,
   "id": "0572092d-ac6d-4f9f-913e-402bd3bd1be0",
   "metadata": {},
   "outputs": [
    {
     "data": {
      "text/plain": [
       "(array([0, 1]), [Text(0, 0, 'loyal'), Text(1, 0, 'not loyal')])"
      ]
     },
     "execution_count": 76,
     "metadata": {},
     "output_type": "execute_result"
    },
    {
     "data": {
      "image/png": "[encoded data removed]",
      "text/plain": [
       "<Figure size 640x480 with 1 Axes>"
      ]
     },
     "metadata": {},
     "output_type": "display_data"
    }
   ],
   "source": [
    "loyal_age_bar = loyal_age_cross.plot.bar()\n",
    "plt.xticks(rotation=0)"
   ]
  },
  {
   "cell_type": "code",
   "execution_count": 77,
   "id": "672dd077-22cd-46a2-9b73-216ad2b7cd2b",
   "metadata": {},
   "outputs": [],
   "source": [
    "loyal_age_bar.figure.savefig(os.path.join(path, '04 Analysis','Visualizations', 'loyal_age_bar.png'))"
   ]
  },
  {
   "cell_type": "code",
   "execution_count": 78,
   "id": "cf276811-74f6-4ea5-84bd-0ab57f5edd6f",
   "metadata": {},
   "outputs": [],
   "source": [
    "loyal_freq = df.groupby('loyalty_flag')['median_days_since_order'].mean()"
   ]
  },
  {
   "cell_type": "code",
   "execution_count": 79,
   "id": "386be0b1-b9ad-4061-989b-0976e37bd700",
   "metadata": {},
   "outputs": [
    {
     "data": {
      "text/plain": [
       "loyalty_flag\n",
       "loyal         5.842560\n",
       "not loyal    10.007396\n",
       "Name: median_days_since_order, dtype: float64"
      ]
     },
     "execution_count": 79,
     "metadata": {},
     "output_type": "execute_result"
    }
   ],
   "source": [
    "loyal_freq"
   ]
  },
  {
   "cell_type": "code",
   "execution_count": 135,
   "id": "815175d8-2ee9-4bb3-b29c-34cb69f19954",
   "metadata": {},
   "outputs": [
    {
     "data": {
      "image/png": "[encoded data removed]",
      "text/plain": [
       "<Figure size 640x480 with 1 Axes>"
      ]
     },
     "metadata": {},
     "output_type": "display_data"
    }
   ],
   "source": [
    "loyal_freq_bar = loyal_freq.plot.bar(rot=0)\n",
    "plt.title('Customer Frequency by Loyalty')\n",
    "loyal_freq_bar.figure.savefig(os.path.join(path, '04 Analysis','Visualizations', 'loyal_freq_bar.png'))"
   ]
  },
  {
   "cell_type": "code",
   "execution_count": 81,
   "id": "55afb625-bac2-460e-83e3-32a5b703e9d5",
   "metadata": {},
   "outputs": [
    {
     "data": {
      "text/plain": [
       "loyalty_flag\n",
       "loyal        8.076561\n",
       "not loyal    7.787122\n",
       "Name: prices, dtype: float64"
      ]
     },
     "execution_count": 81,
     "metadata": {},
     "output_type": "execute_result"
    }
   ],
   "source": [
    "df.groupby('loyalty_flag')['prices'].mean()"
   ]
  },
  {
   "cell_type": "code",
   "execution_count": 125,
   "id": "524b0bdc-913e-4bb8-87f7-a826ae4c9e72",
   "metadata": {},
   "outputs": [],
   "source": [
    "#this gives the average price of items they are ordering I need average price of orders\n",
    "df = df.drop('average_order_price', axis=1)"
   ]
  },
  {
   "cell_type": "code",
   "execution_count": 115,
   "id": "82e8068c-8963-4dbc-bec4-443c8d108b8a",
   "metadata": {},
   "outputs": [],
   "source": [
    "df['order_totals'] = df.groupby('order_id')['prices'].sum()"
   ]
  },
  {
   "cell_type": "code",
   "execution_count": 131,
   "id": "4a0f7933-7637-48f6-b4e3-cfc6cc8cea0f",
   "metadata": {},
   "outputs": [
    {
     "data": {
      "text/html": [
       "<div>\n",
       "<style scoped>\n",
       "    .dataframe tbody tr th:only-of-type {\n",
       "        vertical-align: middle;\n",
       "    }\n",
       "\n",
       "    .dataframe tbody tr th {\n",
       "        vertical-align: top;\n",
       "    }\n",
       "\n",
       "    .dataframe thead th {\n",
       "        text-align: right;\n",
       "    }\n",
       "</style>\n",
       "<table border=\"1\" class=\"dataframe\">\n",
       "  <thead>\n",
       "    <tr style=\"text-align: right;\">\n",
       "      <th></th>\n",
       "      <th>order_id</th>\n",
       "      <th>user_id</th>\n",
       "      <th>order_number</th>\n",
       "      <th>orders_day_of_the_week</th>\n",
       "      <th>order_hour_of_day</th>\n",
       "      <th>days_since_prior_order</th>\n",
       "      <th>product_id</th>\n",
       "      <th>add_to_cart_order</th>\n",
       "      <th>reordered</th>\n",
       "      <th>product_name</th>\n",
       "      <th>aisle_id</th>\n",
       "      <th>department_id</th>\n",
       "      <th>prices</th>\n",
       "      <th>busiest_day</th>\n",
       "      <th>busiest_days</th>\n",
       "      <th>busiest_period_of_day</th>\n",
       "      <th>max_order</th>\n",
       "      <th>customer_order_volume</th>\n",
       "      <th>average_price</th>\n",
       "      <th>spender_type</th>\n",
       "      <th>median_days_since_order</th>\n",
       "      <th>customer_frequency</th>\n",
       "      <th>Gender</th>\n",
       "      <th>State</th>\n",
       "      <th>Age</th>\n",
       "      <th>Date Joined</th>\n",
       "      <th>Number of Dependants</th>\n",
       "      <th>Family Status</th>\n",
       "      <th>Income</th>\n",
       "      <th>Region</th>\n",
       "      <th>activity_flag</th>\n",
       "      <th>Income Group</th>\n",
       "      <th>Age Group</th>\n",
       "      <th>Dependant Status</th>\n",
       "      <th>department</th>\n",
       "      <th>loyalty_flag</th>\n",
       "      <th>order_totals</th>\n",
       "    </tr>\n",
       "  </thead>\n",
       "  <tbody>\n",
       "    <tr>\n",
       "      <th>0</th>\n",
       "      <td>2539329</td>\n",
       "      <td>1</td>\n",
       "      <td>1</td>\n",
       "      <td>2</td>\n",
       "      <td>8</td>\n",
       "      <td>NaN</td>\n",
       "      <td>196</td>\n",
       "      <td>1</td>\n",
       "      <td>0</td>\n",
       "      <td>Soda</td>\n",
       "      <td>77</td>\n",
       "      <td>7</td>\n",
       "      <td>9.0</td>\n",
       "      <td>Regularly busy</td>\n",
       "      <td>Regularly busy</td>\n",
       "      <td>Average Orders</td>\n",
       "      <td>10</td>\n",
       "      <td>low volume</td>\n",
       "      <td>6.367797</td>\n",
       "      <td>Low Spender</td>\n",
       "      <td>20.5</td>\n",
       "      <td>Non-frequent customer</td>\n",
       "      <td>Female</td>\n",
       "      <td>Alabama</td>\n",
       "      <td>31</td>\n",
       "      <td>2/17/2019</td>\n",
       "      <td>3</td>\n",
       "      <td>married</td>\n",
       "      <td>40423</td>\n",
       "      <td>South</td>\n",
       "      <td>high activity customer</td>\n",
       "      <td>low income</td>\n",
       "      <td>adult</td>\n",
       "      <td>Yes</td>\n",
       "      <td>beverages</td>\n",
       "      <td>not loyal</td>\n",
       "      <td>NaN</td>\n",
       "    </tr>\n",
       "    <tr>\n",
       "      <th>1</th>\n",
       "      <td>2539329</td>\n",
       "      <td>1</td>\n",
       "      <td>1</td>\n",
       "      <td>2</td>\n",
       "      <td>8</td>\n",
       "      <td>NaN</td>\n",
       "      <td>14084</td>\n",
       "      <td>2</td>\n",
       "      <td>0</td>\n",
       "      <td>Organic Unsweetened Vanilla Almond Milk</td>\n",
       "      <td>91</td>\n",
       "      <td>16</td>\n",
       "      <td>12.5</td>\n",
       "      <td>Regularly busy</td>\n",
       "      <td>Regularly busy</td>\n",
       "      <td>Average Orders</td>\n",
       "      <td>10</td>\n",
       "      <td>low volume</td>\n",
       "      <td>6.367797</td>\n",
       "      <td>Low Spender</td>\n",
       "      <td>20.5</td>\n",
       "      <td>Non-frequent customer</td>\n",
       "      <td>Female</td>\n",
       "      <td>Alabama</td>\n",
       "      <td>31</td>\n",
       "      <td>2/17/2019</td>\n",
       "      <td>3</td>\n",
       "      <td>married</td>\n",
       "      <td>40423</td>\n",
       "      <td>South</td>\n",
       "      <td>high activity customer</td>\n",
       "      <td>low income</td>\n",
       "      <td>adult</td>\n",
       "      <td>Yes</td>\n",
       "      <td>dairy eggs</td>\n",
       "      <td>not loyal</td>\n",
       "      <td>NaN</td>\n",
       "    </tr>\n",
       "    <tr>\n",
       "      <th>2</th>\n",
       "      <td>2539329</td>\n",
       "      <td>1</td>\n",
       "      <td>1</td>\n",
       "      <td>2</td>\n",
       "      <td>8</td>\n",
       "      <td>NaN</td>\n",
       "      <td>12427</td>\n",
       "      <td>3</td>\n",
       "      <td>0</td>\n",
       "      <td>Original Beef Jerky</td>\n",
       "      <td>23</td>\n",
       "      <td>19</td>\n",
       "      <td>4.4</td>\n",
       "      <td>Regularly busy</td>\n",
       "      <td>Regularly busy</td>\n",
       "      <td>Average Orders</td>\n",
       "      <td>10</td>\n",
       "      <td>low volume</td>\n",
       "      <td>6.367797</td>\n",
       "      <td>Low Spender</td>\n",
       "      <td>20.5</td>\n",
       "      <td>Non-frequent customer</td>\n",
       "      <td>Female</td>\n",
       "      <td>Alabama</td>\n",
       "      <td>31</td>\n",
       "      <td>2/17/2019</td>\n",
       "      <td>3</td>\n",
       "      <td>married</td>\n",
       "      <td>40423</td>\n",
       "      <td>South</td>\n",
       "      <td>high activity customer</td>\n",
       "      <td>low income</td>\n",
       "      <td>adult</td>\n",
       "      <td>Yes</td>\n",
       "      <td>snacks</td>\n",
       "      <td>not loyal</td>\n",
       "      <td>91.6</td>\n",
       "    </tr>\n",
       "    <tr>\n",
       "      <th>3</th>\n",
       "      <td>2539329</td>\n",
       "      <td>1</td>\n",
       "      <td>1</td>\n",
       "      <td>2</td>\n",
       "      <td>8</td>\n",
       "      <td>NaN</td>\n",
       "      <td>26088</td>\n",
       "      <td>4</td>\n",
       "      <td>0</td>\n",
       "      <td>Aged White Cheddar Popcorn</td>\n",
       "      <td>23</td>\n",
       "      <td>19</td>\n",
       "      <td>4.7</td>\n",
       "      <td>Regularly busy</td>\n",
       "      <td>Regularly busy</td>\n",
       "      <td>Average Orders</td>\n",
       "      <td>10</td>\n",
       "      <td>low volume</td>\n",
       "      <td>6.367797</td>\n",
       "      <td>Low Spender</td>\n",
       "      <td>20.5</td>\n",
       "      <td>Non-frequent customer</td>\n",
       "      <td>Female</td>\n",
       "      <td>Alabama</td>\n",
       "      <td>31</td>\n",
       "      <td>2/17/2019</td>\n",
       "      <td>3</td>\n",
       "      <td>married</td>\n",
       "      <td>40423</td>\n",
       "      <td>South</td>\n",
       "      <td>high activity customer</td>\n",
       "      <td>low income</td>\n",
       "      <td>adult</td>\n",
       "      <td>Yes</td>\n",
       "      <td>snacks</td>\n",
       "      <td>not loyal</td>\n",
       "      <td>70.3</td>\n",
       "    </tr>\n",
       "    <tr>\n",
       "      <th>4</th>\n",
       "      <td>2539329</td>\n",
       "      <td>1</td>\n",
       "      <td>1</td>\n",
       "      <td>2</td>\n",
       "      <td>8</td>\n",
       "      <td>NaN</td>\n",
       "      <td>26405</td>\n",
       "      <td>5</td>\n",
       "      <td>0</td>\n",
       "      <td>XL Pick-A-Size Paper Towel Rolls</td>\n",
       "      <td>54</td>\n",
       "      <td>17</td>\n",
       "      <td>1.0</td>\n",
       "      <td>Regularly busy</td>\n",
       "      <td>Regularly busy</td>\n",
       "      <td>Average Orders</td>\n",
       "      <td>10</td>\n",
       "      <td>low volume</td>\n",
       "      <td>6.367797</td>\n",
       "      <td>Low Spender</td>\n",
       "      <td>20.5</td>\n",
       "      <td>Non-frequent customer</td>\n",
       "      <td>Female</td>\n",
       "      <td>Alabama</td>\n",
       "      <td>31</td>\n",
       "      <td>2/17/2019</td>\n",
       "      <td>3</td>\n",
       "      <td>married</td>\n",
       "      <td>40423</td>\n",
       "      <td>South</td>\n",
       "      <td>high activity customer</td>\n",
       "      <td>low income</td>\n",
       "      <td>adult</td>\n",
       "      <td>Yes</td>\n",
       "      <td>household</td>\n",
       "      <td>not loyal</td>\n",
       "      <td>92.8</td>\n",
       "    </tr>\n",
       "  </tbody>\n",
       "</table>\n",
       "</div>"
      ],
      "text/plain": [
       "   order_id  user_id  order_number  orders_day_of_the_week  order_hour_of_day  \\\n",
       "0   2539329        1             1                       2                  8   \n",
       "1   2539329        1             1                       2                  8   \n",
       "2   2539329        1             1                       2                  8   \n",
       "3   2539329        1             1                       2                  8   \n",
       "4   2539329        1             1                       2                  8   \n",
       "\n",
       "   days_since_prior_order  product_id  add_to_cart_order  reordered  \\\n",
       "0                     NaN         196                  1          0   \n",
       "1                     NaN       14084                  2          0   \n",
       "2                     NaN       12427                  3          0   \n",
       "3                     NaN       26088                  4          0   \n",
       "4                     NaN       26405                  5          0   \n",
       "\n",
       "                              product_name  aisle_id  department_id  prices  \\\n",
       "0                                     Soda        77              7     9.0   \n",
       "1  Organic Unsweetened Vanilla Almond Milk        91             16    12.5   \n",
       "2                      Original Beef Jerky        23             19     4.4   \n",
       "3               Aged White Cheddar Popcorn        23             19     4.7   \n",
       "4         XL Pick-A-Size Paper Towel Rolls        54             17     1.0   \n",
       "\n",
       "      busiest_day    busiest_days busiest_period_of_day  max_order  \\\n",
       "0  Regularly busy  Regularly busy        Average Orders         10   \n",
       "1  Regularly busy  Regularly busy        Average Orders         10   \n",
       "2  Regularly busy  Regularly busy        Average Orders         10   \n",
       "3  Regularly busy  Regularly busy        Average Orders         10   \n",
       "4  Regularly busy  Regularly busy        Average Orders         10   \n",
       "\n",
       "  customer_order_volume  average_price spender_type  median_days_since_order  \\\n",
       "0            low volume       6.367797  Low Spender                     20.5   \n",
       "1            low volume       6.367797  Low Spender                     20.5   \n",
       "2            low volume       6.367797  Low Spender                     20.5   \n",
       "3            low volume       6.367797  Low Spender                     20.5   \n",
       "4            low volume       6.367797  Low Spender                     20.5   \n",
       "\n",
       "      customer_frequency  Gender    State  Age Date Joined  \\\n",
       "0  Non-frequent customer  Female  Alabama   31   2/17/2019   \n",
       "1  Non-frequent customer  Female  Alabama   31   2/17/2019   \n",
       "2  Non-frequent customer  Female  Alabama   31   2/17/2019   \n",
       "3  Non-frequent customer  Female  Alabama   31   2/17/2019   \n",
       "4  Non-frequent customer  Female  Alabama   31   2/17/2019   \n",
       "\n",
       "   Number of Dependants Family Status  Income Region           activity_flag  \\\n",
       "0                     3       married   40423  South  high activity customer   \n",
       "1                     3       married   40423  South  high activity customer   \n",
       "2                     3       married   40423  South  high activity customer   \n",
       "3                     3       married   40423  South  high activity customer   \n",
       "4                     3       married   40423  South  high activity customer   \n",
       "\n",
       "  Income Group Age Group Dependant Status  department loyalty_flag  \\\n",
       "0   low income     adult              Yes   beverages    not loyal   \n",
       "1   low income     adult              Yes  dairy eggs    not loyal   \n",
       "2   low income     adult              Yes      snacks    not loyal   \n",
       "3   low income     adult              Yes      snacks    not loyal   \n",
       "4   low income     adult              Yes   household    not loyal   \n",
       "\n",
       "   order_totals  \n",
       "0           NaN  \n",
       "1           NaN  \n",
       "2          91.6  \n",
       "3          70.3  \n",
       "4          92.8  "
      ]
     },
     "execution_count": 131,
     "metadata": {},
     "output_type": "execute_result"
    }
   ],
   "source": [
    "df.head()"
   ]
  },
  {
   "cell_type": "code",
   "execution_count": 119,
   "id": "a7c7ce00-552c-44cd-9226-093bf7980c05",
   "metadata": {},
   "outputs": [],
   "source": [
    "loyal_expend = df.groupby('loyalty_flag')['order_totals'].mean()"
   ]
  },
  {
   "cell_type": "code",
   "execution_count": 139,
   "id": "84e860c7-4989-4baf-a09f-a7244b04f335",
   "metadata": {},
   "outputs": [
    {
     "data": {
      "text/plain": [
       "loyalty_flag\n",
       "loyal        78.750401\n",
       "not loyal    78.708644\n",
       "Name: order_totals, dtype: float64"
      ]
     },
     "execution_count": 139,
     "metadata": {},
     "output_type": "execute_result"
    }
   ],
   "source": [
    "loyal_expend"
   ]
  },
  {
   "cell_type": "code",
   "execution_count": 137,
   "id": "fe80e28f-b056-43c1-9471-7dd6a7f3bd4d",
   "metadata": {},
   "outputs": [
    {
     "data": {
      "image/png": "[encoded data removed]",
      "text/plain": [
       "<Figure size 640x480 with 1 Axes>"
      ]
     },
     "metadata": {},
     "output_type": "display_data"
    }
   ],
   "source": [
    "loyal_expend_bar = loyal_expend.plot.bar(rot=0)\n",
    "plt.title('Customer Average Expenditure by Loyalty')\n",
    "loyal_expend_bar.figure.savefig(os.path.join(path, '04 Analysis','Visualizations', 'loyal_expend_bar.png'))"
   ]
  },
  {
   "cell_type": "markdown",
   "id": "854dddff-223c-443f-b5cf-e5fad3e45368",
   "metadata": {},
   "source": [
    "# Checking ordering habits by region"
   ]
  },
  {
   "cell_type": "code",
   "execution_count": 141,
   "id": "80ea9a0c-9168-48a6-8028-3994dfacd290",
   "metadata": {},
   "outputs": [],
   "source": [
    "region_expend = df.groupby('Region')['order_totals'].mean()"
   ]
  },
  {
   "cell_type": "code",
   "execution_count": 145,
   "id": "18f92652-21bf-40c1-80b9-110b5ac39e8c",
   "metadata": {},
   "outputs": [
    {
     "data": {
      "text/plain": [
       "Region\n",
       "Midwest      78.733076\n",
       "Northeast    78.718498\n",
       "South        78.731874\n",
       "West         78.651093\n",
       "Name: order_totals, dtype: float64"
      ]
     },
     "execution_count": 145,
     "metadata": {},
     "output_type": "execute_result"
    }
   ],
   "source": [
    "region_expend"
   ]
  },
  {
   "cell_type": "code",
   "execution_count": 147,
   "id": "46b6ab6f-2045-43f5-8b42-2cbe52d2897f",
   "metadata": {},
   "outputs": [
    {
     "data": {
      "image/png": "[encoded data removed]",
      "text/plain": [
       "<Figure size 640x480 with 1 Axes>"
      ]
     },
     "metadata": {},
     "output_type": "display_data"
    }
   ],
   "source": [
    "region_expend_bar = region_expend.plot.bar(rot=0)\n",
    "plt.title('Customer Average Expenditure by Region')\n",
    "region_expend_bar.figure.savefig(os.path.join(path, '04 Analysis','Visualizations', 'region_expend_bar.png'))"
   ]
  },
  {
   "cell_type": "code",
   "execution_count": 149,
   "id": "b2b511c3-fe26-4276-be39-1094e44f1199",
   "metadata": {},
   "outputs": [],
   "source": [
    "region_freq = df.groupby('Region')['median_days_since_order'].mean()"
   ]
  },
  {
   "cell_type": "code",
   "execution_count": 151,
   "id": "8f80f354-d5d7-4c9a-9327-5c0e66adb1e1",
   "metadata": {},
   "outputs": [
    {
     "data": {
      "text/plain": [
       "Region\n",
       "Midwest      10.019931\n",
       "Northeast     9.924985\n",
       "South         9.955835\n",
       "West          9.923485\n",
       "Name: median_days_since_order, dtype: float64"
      ]
     },
     "execution_count": 151,
     "metadata": {},
     "output_type": "execute_result"
    }
   ],
   "source": [
    "region_freq"
   ]
  },
  {
   "cell_type": "code",
   "execution_count": 153,
   "id": "0679fead-91de-44aa-b8e5-8d40993b7973",
   "metadata": {},
   "outputs": [
    {
     "data": {
      "image/png": "[encoded data removed]",
      "text/plain": [
       "<Figure size 640x480 with 1 Axes>"
      ]
     },
     "metadata": {},
     "output_type": "display_data"
    }
   ],
   "source": [
    "region_freq_bar = region_freq.plot.bar(rot=0)\n",
    "plt.title('Average Customer Frequency by Region')\n",
    "region_freq_bar.figure.savefig(os.path.join(path, '04 Analysis','Visualizations', 'region_freq_bar.png'))"
   ]
  },
  {
   "cell_type": "code",
   "execution_count": 163,
   "id": "d94a2061-1c65-47cf-8bf3-e30cc03ac1da",
   "metadata": {},
   "outputs": [],
   "source": [
    "region_order_total = df.groupby('Region')['order_id'].nunique()"
   ]
  },
  {
   "cell_type": "code",
   "execution_count": 165,
   "id": "18e57e96-d7c9-47f4-99ca-6f18263ccb7e",
   "metadata": {},
   "outputs": [
    {
     "data": {
      "text/plain": [
       "Region\n",
       "Midwest       719292\n",
       "Northeast     540199\n",
       "South        1021379\n",
       "West          783505\n",
       "Name: order_id, dtype: int64"
      ]
     },
     "execution_count": 165,
     "metadata": {},
     "output_type": "execute_result"
    }
   ],
   "source": [
    "region_order_total"
   ]
  },
  {
   "cell_type": "code",
   "execution_count": 191,
   "id": "60563af7-a502-4790-9afa-ab68025b9e7e",
   "metadata": {},
   "outputs": [
    {
     "data": {
      "image/png": "[encoded data removed]",
      "text/plain": [
       "<Figure size 640x480 with 1 Axes>"
      ]
     },
     "metadata": {},
     "output_type": "display_data"
    }
   ],
   "source": [
    "plt.pie(region_order_total, labels = ['Midwest','Northeast','South','West'], autopct='%1.1f%%')\n",
    "plt.title('Total Orders by Region')\n",
    "plt.savefig(os.path.join(path, '04 Analysis','Visualizations', 'region_order_pie.png'))\n",
    "plt.show()"
   ]
  },
  {
   "cell_type": "code",
   "execution_count": 167,
   "id": "dd2669c2-9099-429d-8207-a03e9a9f1cfc",
   "metadata": {},
   "outputs": [],
   "source": [
    "region_customer_total =  df.groupby('Region')['user_id'].nunique()"
   ]
  },
  {
   "cell_type": "code",
   "execution_count": 169,
   "id": "06e24e56-3483-45a6-a415-3b38617bc889",
   "metadata": {},
   "outputs": [
    {
     "data": {
      "text/plain": [
       "Region\n",
       "Midwest      38376\n",
       "Northeast    28581\n",
       "South        54193\n",
       "West         41481\n",
       "Name: user_id, dtype: int64"
      ]
     },
     "execution_count": 169,
     "metadata": {},
     "output_type": "execute_result"
    }
   ],
   "source": [
    "region_customer_total"
   ]
  },
  {
   "cell_type": "code",
   "execution_count": 195,
   "id": "be15a030-290c-4449-ba8f-b7d52c98efbd",
   "metadata": {},
   "outputs": [
    {
     "data": {
      "image/png": "[encoded data removed]",
      "text/plain": [
       "<Figure size 640x480 with 1 Axes>"
      ]
     },
     "metadata": {},
     "output_type": "display_data"
    }
   ],
   "source": [
    "plt.pie(region_customer_total, labels = ['Midwest','Northeast','South','West'], autopct='%1.1f%%')\n",
    "plt.title('Total Customers by Region')\n",
    "plt.savefig(os.path.join(path, '04 Analysis','Visualizations', 'region_customer_pie.png'))\n",
    "plt.show()"
   ]
  },
  {
   "cell_type": "code",
   "execution_count": 219,
   "id": "f0cf6d53-653b-4666-808b-b69e07a1c272",
   "metadata": {},
   "outputs": [],
   "source": [
    "age_freq = df.groupby('Age Group')['median_days_since_order'].mean()"
   ]
  },
  {
   "cell_type": "code",
   "execution_count": 225,
   "id": "fadbe1c8-5427-4802-a04b-76b45d233a8d",
   "metadata": {},
   "outputs": [
    {
     "data": {
      "image/png": "[encoded data removed]",
      "text/plain": [
       "<Figure size 640x480 with 1 Axes>"
      ]
     },
     "metadata": {},
     "output_type": "display_data"
    }
   ],
   "source": [
    "age_freq_bar = age_freq.plot.bar(rot=0)\n",
    "plt.title('Order Frequency by Age Group')\n",
    "age_freq_bar.figure.savefig(os.path.join(path, '04 Analysis','Visualizations', 'age_freq_bar.png'))\n",
    "plt.show()"
   ]
  },
  {
   "cell_type": "code",
   "execution_count": 201,
   "id": "f4e42338-2c63-43e4-8cb7-ae34a3767d49",
   "metadata": {},
   "outputs": [],
   "source": [
    " age_expend = df.groupby('Age Group')['order_totals'].mean()"
   ]
  },
  {
   "cell_type": "code",
   "execution_count": 203,
   "id": "2884cb8d-aba7-46a7-8c30-1800ab197bde",
   "metadata": {},
   "outputs": [
    {
     "data": {
      "text/plain": [
       "Age Group\n",
       "adult          78.602946\n",
       "middle aged    78.717331\n",
       "senior         78.807944\n",
       "young adult    78.618177\n",
       "Name: order_totals, dtype: float64"
      ]
     },
     "execution_count": 203,
     "metadata": {},
     "output_type": "execute_result"
    }
   ],
   "source": [
    "age_expend"
   ]
  },
  {
   "cell_type": "code",
   "execution_count": 229,
   "id": "4d1d514d-6bd1-44bc-ae33-39c566162879",
   "metadata": {},
   "outputs": [
    {
     "data": {
      "image/png": "[encoded data removed]",
      "text/plain": [
       "<Figure size 640x480 with 1 Axes>"
      ]
     },
     "metadata": {},
     "output_type": "display_data"
    }
   ],
   "source": [
    "age_expend_bar = age_expend.plot.bar(rot=0)\n",
    "plt.title('Average Customer Expenditure by Age Group')\n",
    "age_expend_bar.figure.savefig(os.path.join(path, '04 Analysis','Visualizations', 'age_expend_bar.png'))"
   ]
  },
  {
   "cell_type": "code",
   "execution_count": 205,
   "id": "0eae5c3b-cee3-4a65-9e97-d69222848edd",
   "metadata": {},
   "outputs": [],
   "source": [
    "fam_freq = df.groupby('Family Status')['median_days_since_order'].mean()"
   ]
  },
  {
   "cell_type": "code",
   "execution_count": 227,
   "id": "46b13679-dcf0-45b4-b420-1415c5feebdf",
   "metadata": {},
   "outputs": [
    {
     "data": {
      "image/png": "[encoded data removed]",
      "text/plain": [
       "<Figure size 640x480 with 1 Axes>"
      ]
     },
     "metadata": {},
     "output_type": "display_data"
    }
   ],
   "source": [
    "fam_freq_bar = fam_freq.plot.bar(rot=0)\n",
    "plt.title('Order Frequency by Familty Status')\n",
    "fam_freq_bar.figure.savefig(os.path.join(path, '04 Analysis','Visualizations', 'fam_freq_bar.png'))"
   ]
  },
  {
   "cell_type": "code",
   "execution_count": 209,
   "id": "6edbef8a-b0db-4d8d-bc40-e522c3eb858d",
   "metadata": {},
   "outputs": [],
   "source": [
    "fam_expend = df.groupby('Family Status')['order_totals'].mean()"
   ]
  },
  {
   "cell_type": "code",
   "execution_count": 211,
   "id": "ccf4bf64-31cc-4461-b32c-ffa19c0e1286",
   "metadata": {},
   "outputs": [
    {
     "data": {
      "text/plain": [
       "Family Status\n",
       "divorced/widowed                    78.919417\n",
       "living with parents and siblings    78.540560\n",
       "married                             78.710669\n",
       "single                              78.637592\n",
       "Name: order_totals, dtype: float64"
      ]
     },
     "execution_count": 211,
     "metadata": {},
     "output_type": "execute_result"
    }
   ],
   "source": [
    "fam_expend"
   ]
  },
  {
   "cell_type": "code",
   "execution_count": 249,
   "id": "5f80ce64-760a-4ede-962f-d21d5d5ad722",
   "metadata": {},
   "outputs": [
    {
     "data": {
      "image/png": "[encoded data removed]",
      "text/plain": [
       "<Figure size 640x480 with 1 Axes>"
      ]
     },
     "metadata": {},
     "output_type": "display_data"
    }
   ],
   "source": [
    "fam_expend_bar = age_expend.plot.bar(rot=0)\n",
    "plt.title('Average Customer Expenditure by Family Status')\n",
    "fam_expend_bar.figure.savefig(os.path.join(path, '04 Analysis','Visualizations', 'fam_expend_bar.png'))"
   ]
  },
  {
   "cell_type": "code",
   "execution_count": 233,
   "id": "7738cd07-1113-410d-b46a-f5915be723f0",
   "metadata": {},
   "outputs": [],
   "source": [
    "age_order_total = df.groupby('Age Group')['order_id'].nunique()"
   ]
  },
  {
   "cell_type": "code",
   "execution_count": 237,
   "id": "6eefbd25-1f63-4133-8bcd-93a237d289d0",
   "metadata": {},
   "outputs": [
    {
     "data": {
      "image/png": "[encoded data removed]",
      "text/plain": [
       "<Figure size 640x480 with 1 Axes>"
      ]
     },
     "metadata": {},
     "output_type": "display_data"
    }
   ],
   "source": [
    "age_order_total_bar = age_order_total.plot.bar(rot=0)\n",
    "plt.title('Total Orders by Age Group')\n",
    "age_order_total_bar.figure.savefig(os.path.join(path, '04 Analysis','Visualizations', 'age_order_total_bar.png'))"
   ]
  },
  {
   "cell_type": "code",
   "execution_count": 239,
   "id": "462769c2-a578-4758-8af8-bdb6091bae18",
   "metadata": {},
   "outputs": [],
   "source": [
    "fam_order_total = df.groupby('Family Status')['order_id'].nunique()"
   ]
  },
  {
   "cell_type": "code",
   "execution_count": 241,
   "id": "1b400707-a3f0-4bfa-9812-6533008b8bc3",
   "metadata": {},
   "outputs": [
    {
     "data": {
      "image/png": "[encoded data removed]",
      "text/plain": [
       "<Figure size 640x480 with 1 Axes>"
      ]
     },
     "metadata": {},
     "output_type": "display_data"
    }
   ],
   "source": [
    "fam_order_total_bar = fam_order_total.plot.bar(rot=0)\n",
    "plt.title('Total Orders by Family Status')\n",
    "fam_order_total_bar.figure.savefig(os.path.join(path, '04 Analysis','Visualizations', 'fam_order_total_bar.png'))"
   ]
  },
  {
   "cell_type": "code",
   "execution_count": null,
   "id": "11c4bbc1-5bed-429a-bd59-35e12b7500fc",
   "metadata": {},
   "outputs": [],
   "source": []
  }
 ],
 "metadata": {
  "kernelspec": {
   "display_name": "Python [conda env:base] *",
   "language": "python",
   "name": "conda-base-py"
  },
  "language_info": {
   "codemirror_mode": {
    "name": "ipython",
    "version": 3
   },
   "file_extension": ".py",
   "mimetype": "text/x-python",
   "name": "python",
   "nbconvert_exporter": "python",
   "pygments_lexer": "ipython3",
   "version": "3.12.7"
  }
 },
 "nbformat": 4,
 "nbformat_minor": 5
}
